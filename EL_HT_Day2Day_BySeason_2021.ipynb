{
 "cells": [
  {
   "cell_type": "code",
   "execution_count": null,
   "metadata": {
    "tags": []
   },
   "outputs": [],
   "source": [
    "import numpy as np\n",
    "import pandas as pd\n",
    "import matplotlib.pyplot as plt\n",
    "import seaborn as sns\n",
    "import plotly.express as px\n",
    "import plotly.graph_objects as go\n",
    "from plotly.subplots import make_subplots\n",
    "from plotly.offline import init_notebook_mode\n",
    "init_notebook_mode(connected=False)\n",
    "pd.set_option('display.max_colwidth', 100)"
   ]
  },
  {
   "cell_type": "code",
   "execution_count": null,
   "metadata": {
    "tags": []
   },
   "outputs": [],
   "source": [
    "from sklearn.model_selection import KFold, train_test_split, StratifiedKFold\n",
    "from sklearn.ensemble import RandomForestRegressor, AdaBoostRegressor, ExtraTreesRegressor\n",
    "from sklearn.metrics import accuracy_score, mean_absolute_error, mean_squared_error\n",
    "from sklearn.linear_model import Ridge, Lasso, ElasticNet\n",
    "from sklearn.preprocessing import StandardScaler, MinMaxScaler, RobustScaler\n",
    "from evaluation_metrics import compute_metrics, compute_metrics_csv, mean_absolute_percentage_error, symetric_mean_absolute_percentage_error"
   ]
  },
  {
   "cell_type": "code",
   "execution_count": null,
   "metadata": {
    "tags": []
   },
   "outputs": [],
   "source": [
    "from statsmodels.tsa.stattools import acf, pacf, ccf, ccovf\n",
    "from statsmodels.tsa.seasonal import STL\n",
    "from statsmodels.graphics.tsaplots import plot_acf, plot_pacf \n",
    "from statsmodels.tsa.stattools import adfuller, kpss\n",
    "from scipy.stats import boxcox, yeojohnson\n",
    "from scipy.spatial.distance import cosine, euclidean\n",
    "import rstl"
   ]
  },
  {
   "cell_type": "code",
   "execution_count": null,
   "metadata": {
    "tags": []
   },
   "outputs": [],
   "source": [
    "from scipy.stats import boxcox, yeojohnson"
   ]
  },
  {
   "cell_type": "code",
   "execution_count": null,
   "metadata": {
    "tags": []
   },
   "outputs": [],
   "source": [
    "from tqdm.notebook import trange, tqdm\n",
    "from datetime import datetime\n",
    "import itertools\n",
    "from numpy.polynomial import Polynomial as P"
   ]
  },
  {
   "cell_type": "code",
   "execution_count": null,
   "metadata": {
    "tags": []
   },
   "outputs": [],
   "source": [
    "import pickle"
   ]
  },
  {
   "cell_type": "code",
   "execution_count": null,
   "metadata": {
    "tags": []
   },
   "outputs": [],
   "source": [
    "import ruptures as rpt"
   ]
  },
  {
   "cell_type": "code",
   "execution_count": null,
   "metadata": {
    "tags": []
   },
   "outputs": [],
   "source": [
    "from river import tree"
   ]
  },
  {
   "cell_type": "code",
   "execution_count": null,
   "metadata": {
    "tags": []
   },
   "outputs": [],
   "source": [
    "import warnings"
   ]
  },
  {
   "cell_type": "code",
   "execution_count": null,
   "metadata": {
    "tags": []
   },
   "outputs": [],
   "source": [
    "warnings.simplefilter(action='ignore', category=pd.errors.PerformanceWarning)"
   ]
  },
  {
   "cell_type": "code",
   "execution_count": null,
   "metadata": {
    "tags": []
   },
   "outputs": [],
   "source": [
    "df = pd.read_csv('./Data/ppnet_metar_v8_2021.csv', sep=';', index_col=0)"
   ]
  },
  {
   "cell_type": "code",
   "execution_count": null,
   "metadata": {
    "tags": []
   },
   "outputs": [],
   "source": [
    "df = df[df.Year < 2021].copy()"
   ]
  },
  {
   "cell_type": "code",
   "execution_count": null,
   "metadata": {
    "tags": []
   },
   "outputs": [],
   "source": [
    "df_temp_forecast = pd.read_csv('./Data/yrno_temperature.csv', sep=';', index_col=0, decimal=',')\n",
    "df_temp_forecast.index = pd.DatetimeIndex(pd.Series(df_temp_forecast.index).apply(lambda x: datetime.strptime(x, '%d.%m.%Y %H:%M')))\n",
    "df_temp_forecast = df_temp_forecast.iloc[:, 1].groupby(df_temp_forecast.index).mean()"
   ]
  },
  {
   "cell_type": "code",
   "execution_count": null,
   "metadata": {
    "tags": []
   },
   "outputs": [],
   "source": [
    "df_el = pd.read_csv('./Data/raw_electricity_2021.csv', sep=',', index_col=0).Load_ffill\n",
    "df_el.index = pd.DatetimeIndex(df_el.index)"
   ]
  },
  {
   "cell_type": "code",
   "execution_count": null,
   "metadata": {
    "tags": []
   },
   "outputs": [],
   "source": [
    "df.loc[:, 'TestSet'] = 0\n",
    "df.loc[df.Year == 2020, 'TestSet'] = 1"
   ]
  },
  {
   "cell_type": "code",
   "execution_count": null,
   "metadata": {
    "tags": []
   },
   "outputs": [],
   "source": [
    "df.head()"
   ]
  },
  {
   "cell_type": "code",
   "execution_count": null,
   "metadata": {
    "tags": []
   },
   "outputs": [],
   "source": [
    "df.shape"
   ]
  },
  {
   "cell_type": "code",
   "execution_count": null,
   "metadata": {
    "tags": []
   },
   "outputs": [],
   "source": [
    "px.line(y=df['Consumption'], x=df.index, color=df.Year)"
   ]
  },
  {
   "cell_type": "code",
   "execution_count": null,
   "metadata": {
    "tags": []
   },
   "outputs": [],
   "source": [
    "df_gas = pd.read_csv('./Data/ppnet_metar_v8_2021.csv', sep=';', index_col=0)\n",
    "df_gas.index = pd.DatetimeIndex(df_gas.index)\n",
    "df_gas['Month'] = df_gas.index.month_name()\n",
    "df_gas['Day'] = df_gas.index.day_name()"
   ]
  },
  {
   "cell_type": "code",
   "execution_count": null,
   "metadata": {
    "tags": []
   },
   "outputs": [],
   "source": [
    "df.index = pd.DatetimeIndex(df.index)"
   ]
  },
  {
   "cell_type": "code",
   "execution_count": null,
   "metadata": {
    "tags": []
   },
   "outputs": [],
   "source": [
    "temp_err = (df.Temperature - df.Temperature_YRNO).dropna()\n",
    "temp_err.describe()"
   ]
  },
  {
   "cell_type": "code",
   "execution_count": null,
   "metadata": {
    "tags": []
   },
   "outputs": [],
   "source": [
    "df.isna().sum()"
   ]
  },
  {
   "cell_type": "code",
   "execution_count": null,
   "metadata": {
    "tags": []
   },
   "outputs": [],
   "source": [
    "df.shape"
   ]
  },
  {
   "cell_type": "code",
   "execution_count": null,
   "metadata": {
    "tags": []
   },
   "outputs": [],
   "source": [
    "df.describe(exclude='O').columns"
   ]
  },
  {
   "cell_type": "code",
   "execution_count": null,
   "metadata": {
    "tags": []
   },
   "outputs": [],
   "source": [
    "FORECAST_HORIZON = 24"
   ]
  },
  {
   "cell_type": "code",
   "execution_count": null,
   "metadata": {
    "tags": []
   },
   "outputs": [],
   "source": [
    "df.loc[df.index <= '2014-12-31 23:00:00', 'Temperature_YRNO'] = df.loc[df.index <= '2014-12-31 23:00:00', 'Temperature']\n",
    "df.loc[:, 'Temperature_YRNO'] = df.loc[:, 'Temperature_YRNO'].interpolate()"
   ]
  },
  {
   "cell_type": "code",
   "execution_count": null,
   "metadata": {
    "tags": []
   },
   "outputs": [],
   "source": [
    "X, y = df.loc[:, df.columns != 'Consumption'].copy(), df_el[df_el.index.isin(df.index)].copy()"
   ]
  },
  {
   "cell_type": "code",
   "execution_count": null,
   "metadata": {
    "tags": []
   },
   "outputs": [],
   "source": [
    "X.columns"
   ]
  },
  {
   "cell_type": "code",
   "execution_count": null,
   "metadata": {
    "tags": []
   },
   "outputs": [],
   "source": [
    "X.isna().sum()"
   ]
  },
  {
   "cell_type": "code",
   "execution_count": null,
   "metadata": {
    "tags": []
   },
   "outputs": [],
   "source": [
    "y.isna().sum()"
   ]
  },
  {
   "cell_type": "code",
   "execution_count": null,
   "metadata": {
    "tags": []
   },
   "outputs": [],
   "source": [
    "X.Cena.bfill()"
   ]
  },
  {
   "cell_type": "code",
   "execution_count": null,
   "metadata": {
    "tags": []
   },
   "outputs": [],
   "source": [
    "X['Cena_bfill'] = X.Cena.bfill()"
   ]
  },
  {
   "cell_type": "code",
   "execution_count": null,
   "metadata": {
    "tags": []
   },
   "outputs": [],
   "source": [
    "X = X.loc[:, ['Year', 'Month', 'Day', 'Hour', 'Day_of_week', 'Before_holiday', 'Holiday', 'Temperature', 'Temperature_YRNO', 'Wind_speed', 'Humidity']]"
   ]
  },
  {
   "cell_type": "code",
   "execution_count": null,
   "metadata": {
    "tags": []
   },
   "outputs": [],
   "source": [
    "def create_lagged_dataset(X, y, past_lags=24, future_temp_forecast_lags=24):\n",
    "    X_in, y_out = X.copy().drop(['Year'], axis=1), pd.DataFrame(columns=[f'H{x}' for x in range(1, 25)], index=y.index)\n",
    "    \n",
    "    for i, x in enumerate(y_out.columns):\n",
    "        y_out[f'H{i+1}'] = y.shift(-i-1)\n",
    "    \n",
    "    lagged_columns = ['Temperature', 'Temperature_YRNO', 'Wind_speed', 'Humidity']\n",
    "    for c in lagged_columns:\n",
    "        for i in range(1, past_lags+1):\n",
    "            X_in[f'LAG_{c}_{i}'] = X[c].shift(i)\n",
    "    \n",
    "    for i in range(1, future_temp_forecast_lags + 1):\n",
    "        c = 'Temperature_YRNO'\n",
    "        X_in[f'LAG_{c}_{i}'] = X[c].shift(-i)\n",
    "        \n",
    "    for i in range(1, past_lags + 1):\n",
    "        c = 'Consumption'\n",
    "        X_in[f'LAG_{c}_{i}'] = y.shift(i)\n",
    "    \n",
    "    return (X_in, y_out)"
   ]
  },
  {
   "cell_type": "code",
   "execution_count": null,
   "metadata": {
    "tags": []
   },
   "outputs": [],
   "source": [
    "past_lags, future_temp_forecast_lags = 72, 24\n",
    "X_in, y_out = create_lagged_dataset(X, y, past_lags, future_temp_forecast_lags)"
   ]
  },
  {
   "cell_type": "code",
   "execution_count": null,
   "metadata": {
    "tags": []
   },
   "outputs": [],
   "source": [
    "X_in.head()"
   ]
  },
  {
   "cell_type": "code",
   "execution_count": null,
   "metadata": {
    "tags": []
   },
   "outputs": [],
   "source": [
    "y_out.head()"
   ]
  },
  {
   "cell_type": "code",
   "execution_count": null,
   "metadata": {},
   "outputs": [],
   "source": [
    "def tune_pen_pelt(pen_arr):\n",
    "    min_size = 24 * 7\n",
    "    jump = 24\n",
    "    model = 'l2'\n",
    "    res = {}\n",
    "\n",
    "    for pen in tqdm(pen_arr):\n",
    "        algo = rpt.Pelt(model=model, min_size=min_size, jump=jump)\n",
    "        algo.fit(y.values)\n",
    "        my_bkps = algo.predict(pen=pen)\n",
    "        res[pen] = my_bkps\n",
    "    return res"
   ]
  },
  {
   "cell_type": "code",
   "execution_count": null,
   "metadata": {},
   "outputs": [],
   "source": [
    "# pen_arr = [10**x for x in range(1, 10, 1)]\n",
    "# res = tune_pen_pelt(pen_arr)\n",
    "# res_cnt = {k: len(v) for k, v in res.items()}\n",
    "# res_cnt"
   ]
  },
  {
   "cell_type": "code",
   "execution_count": null,
   "metadata": {},
   "outputs": [],
   "source": [
    "BKPS_COUNT = {\n",
    "    'HIGH': 1, \n",
    "    'MED': 1.5, \n",
    "    'LOW': 2.5\n",
    "}\n",
    "\n",
    "SELECTED_BKPS_COUNT = 'LOW'"
   ]
  },
  {
   "cell_type": "code",
   "execution_count": null,
   "metadata": {},
   "outputs": [],
   "source": [
    "min_size = 24 * 7\n",
    "jump = 24\n",
    "model = 'l2'\n",
    "# pen = cp_params[model][47]\n",
    "pen = 100000000 * BKPS_COUNT[SELECTED_BKPS_COUNT]\n",
    "algo = rpt.Pelt(model=model, min_size=min_size, jump=jump)\n",
    "algo.fit(y.values)\n",
    "my_bkps = algo.predict(pen=pen)"
   ]
  },
  {
   "cell_type": "code",
   "execution_count": null,
   "metadata": {},
   "outputs": [],
   "source": [
    "len(my_bkps)"
   ]
  },
  {
   "cell_type": "markdown",
   "metadata": {
    "tags": []
   },
   "source": [
    "## Number of CP detected in a year 2013"
   ]
  },
  {
   "cell_type": "code",
   "execution_count": null,
   "metadata": {
    "tags": []
   },
   "outputs": [],
   "source": [
    "len([x for x in my_bkps if x < y[y.index.year == 2013].shape[0]])"
   ]
  },
  {
   "cell_type": "markdown",
   "metadata": {
    "tags": []
   },
   "source": [
    "## Number of CP detected in a year 2014"
   ]
  },
  {
   "cell_type": "code",
   "execution_count": null,
   "metadata": {
    "tags": []
   },
   "outputs": [],
   "source": [
    "len([x for x in my_bkps if x > y[y.index.year == 2013].shape[0] and x < y[y.index.year == 2013].shape[0]+y[y.index.year == 2014].shape[0]])"
   ]
  },
  {
   "cell_type": "code",
   "execution_count": null,
   "metadata": {
    "tags": []
   },
   "outputs": [],
   "source": [
    "def plot_bkps(data, my_bkps, title=None, ret=False):\n",
    "    fig = go.Figure()\n",
    "    fig.add_trace(go.Scatter(x=data.index, y=data.values,\n",
    "                            mode='lines',\n",
    "                            line_color='#333C83'))\n",
    "    # fig = px.line(x=data.index, y=data.values, title=title)\n",
    "    clr_selection = 'green'\n",
    "    color_switch = lambda x: 'blue' if x != 'blue' else 'green'\n",
    "\n",
    "    for idx, cp in enumerate(my_bkps):\n",
    "        if cp >= len(data):\n",
    "            break\n",
    "\n",
    "        fig.add_vline(x=data.index[cp], line_width=3, line_dash=\"dash\", line_color=\"red\")\n",
    "\n",
    "        if idx < len(my_bkps) - 2:\n",
    "            clr_selection = color_switch(clr_selection)\n",
    "            fig.add_vrect(x0=data.index[cp], x1=data.index[my_bkps[idx+1]], line_width=0, fillcolor=clr_selection, opacity=0.1)\n",
    "    \n",
    "    # fig.data = fig.data[::-1]\n",
    "    fig.update_layout(title=title)\n",
    "    if ret:\n",
    "        return fig\n",
    "    fig.show()"
   ]
  },
  {
   "cell_type": "code",
   "execution_count": null,
   "metadata": {
    "tags": []
   },
   "outputs": [],
   "source": [
    "def plot_bkps_selection(data, my_bkps, title=None, ret=False):\n",
    "    fig = go.Figure()\n",
    "    fig.add_trace(go.Scatter(x=data.index, y=data.values,\n",
    "                            mode='lines',\n",
    "                            line_color='#333C83'))\n",
    "    # fig = px.line(x=data.index, y=data.values, title=title)\n",
    "    clr_selection = 'green'\n",
    "    color_switch = lambda x: 'blue' if x != 'blue' else 'green'\n",
    "\n",
    "    for idx, cp in enumerate(my_bkps):\n",
    "        if cp >= len(data):\n",
    "            break\n",
    "\n",
    "        fig.add_vline(x=data.index[cp], line_width=3, line_dash=\"dash\", line_color=\"red\")\n",
    "\n",
    "        if idx < len(my_bkps) - 2:\n",
    "            clr_selection = color_switch(clr_selection)\n",
    "            fig.add_vrect(x0=data.index[cp], x1=data.index[my_bkps[idx+1]], line_width=0, fillcolor=clr_selection, opacity=0.1)\n",
    "    \n",
    "    # fig.data = fig.data[::-1]\n",
    "    fig.update_layout(title=title)\n",
    "    if ret:\n",
    "        return fig\n",
    "    fig.show()"
   ]
  },
  {
   "cell_type": "code",
   "execution_count": null,
   "metadata": {
    "tags": []
   },
   "outputs": [],
   "source": [
    "plot_bkps(y, my_bkps)"
   ]
  },
  {
   "cell_type": "code",
   "execution_count": null,
   "metadata": {
    "tags": []
   },
   "outputs": [],
   "source": [
    "X_in_nona, y_out_nona = X_in.iloc[past_lags:-future_temp_forecast_lags, :], y_out.iloc[past_lags:-future_temp_forecast_lags, :]\n",
    "X_in_nona_midnight, y_out_nona_midnight = X_in_nona[X_in_nona.index.hour == 0], y_out_nona[y_out_nona.index.hour == 0]"
   ]
  },
  {
   "cell_type": "code",
   "execution_count": null,
   "metadata": {
    "tags": []
   },
   "outputs": [],
   "source": [
    "X_in_nona_midnight.index.quarter"
   ]
  },
  {
   "cell_type": "code",
   "execution_count": null,
   "metadata": {
    "tags": []
   },
   "outputs": [],
   "source": [
    "models_dict = {}\n",
    "\n",
    "for i in range(1,5):\n",
    "    models_dict[i] = {c: tree.HoeffdingTreeRegressor(grace_period=7, leaf_prediction='adaptive', model_selector_decay=0.2, tau=0.5) for c in y_out.columns}"
   ]
  },
  {
   "cell_type": "code",
   "execution_count": null,
   "metadata": {
    "tags": []
   },
   "outputs": [],
   "source": [
    "df_forecast = pd.DataFrame(columns=y_out_nona_midnight.columns, index=y_out_nona_midnight.index)\n",
    "limit = y_out_nona_midnight.shape[0]\n",
    "idx = 0\n",
    "for inp, out in tqdm(zip(X_in_nona_midnight[:limit].iterrows(), y_out_nona_midnight[:limit].iterrows()), total=limit):\n",
    "    y_pred_arr = np.zeros(len(y_out_nona.columns))\n",
    "    q = inp[0].quarter\n",
    "    for k, c in enumerate(y_out_nona.columns):\n",
    "        m = models_dict[q][c]\n",
    "        y_pred_arr[k] = m.predict_one(inp[1].to_dict())\n",
    "        m.learn_one(inp[1].to_dict(), out[1][k])\n",
    "    df_forecast.iloc[idx, :] = y_pred_arr\n",
    "    idx += 1"
   ]
  },
  {
   "cell_type": "code",
   "execution_count": null,
   "metadata": {
    "tags": []
   },
   "outputs": [],
   "source": [
    "df_forecast"
   ]
  },
  {
   "cell_type": "code",
   "execution_count": null,
   "metadata": {
    "tags": []
   },
   "outputs": [],
   "source": [
    "df_forecast.shape[0] * df_forecast.shape[1]"
   ]
  },
  {
   "cell_type": "code",
   "execution_count": null,
   "metadata": {
    "tags": []
   },
   "outputs": [],
   "source": [
    "y_out_selection = y[(y.index >= '2013-01-05 00:00:00') & (y.index <= '2020-12-30 23:00:00')]\n",
    "y_out_selection"
   ]
  },
  {
   "cell_type": "code",
   "execution_count": null,
   "metadata": {
    "tags": []
   },
   "outputs": [],
   "source": [
    "df_forecast_res = df_forecast[(df_forecast.index <= '2020-12-30') & (df_forecast.index >= '2013-01-05')]\n",
    "df_forecast_res = df_forecast_res.stack().reset_index(name='y_pred')\n",
    "df_forecast_res.index = y_out_selection.index[:]\n",
    "\n",
    "df_forecast_res = df_forecast_res.shift()\n",
    "df_forecast_res = df_forecast_res.dropna()\n",
    "df_forecast_res = df_forecast_res.drop(['level_0', 'level_1'], axis=1)\n",
    "df_forecast_res['y_true'] = y_out_selection.iloc[1:]\n",
    "df_forecast_res"
   ]
  },
  {
   "cell_type": "code",
   "execution_count": null,
   "metadata": {
    "tags": []
   },
   "outputs": [],
   "source": [
    "df_forecast_res.to_csv('Results/EL_HT_Day2Day_BySeason_2021.csv', sep=',')"
   ]
  },
  {
   "cell_type": "code",
   "execution_count": null,
   "metadata": {
    "tags": []
   },
   "outputs": [],
   "source": [
    "# df_forecast_res = pd.read_csv('Results/NGC_HT_Day2Day_BySeason_2021.csv', sep=',', index_col=0)"
   ]
  },
  {
   "cell_type": "code",
   "execution_count": null,
   "metadata": {
    "tags": []
   },
   "outputs": [],
   "source": [
    "df_forecast_res.index = pd.DatetimeIndex(df_forecast_res.index)"
   ]
  },
  {
   "cell_type": "code",
   "execution_count": null,
   "metadata": {
    "tags": []
   },
   "outputs": [],
   "source": [
    "df_forecast_res"
   ]
  },
  {
   "cell_type": "markdown",
   "metadata": {},
   "source": [
    "## IQR correction"
   ]
  },
  {
   "cell_type": "code",
   "execution_count": null,
   "metadata": {
    "tags": []
   },
   "outputs": [],
   "source": [
    "# q3, q1 = np.percentile(df_forecast_res.y_pred, [75 ,25])\n",
    "# iqr = q3 - q1\n",
    "# qt, qb = q3 + 1.5*iqr, q1 - 1.5*iqr\n",
    "\n",
    "\n",
    "# df_forecast_res['y_pred'] = df_forecast_res['y_pred'].apply(lambda x: np.nan if x > qt or x < qb else x)\n",
    "# df_forecast_res['y_pred'] = df_forecast_res['y_pred'].fillna(method='ffill')"
   ]
  },
  {
   "cell_type": "code",
   "execution_count": null,
   "metadata": {
    "tags": []
   },
   "outputs": [],
   "source": [
    "compute_metrics(df_forecast_res[df_forecast_res.index >= '2013-01-05 00:00:00'].dropna())"
   ]
  },
  {
   "cell_type": "code",
   "execution_count": null,
   "metadata": {
    "tags": []
   },
   "outputs": [],
   "source": [
    "compute_metrics(df_forecast_res[df_forecast_res.index >= '2014-01-01 00:00:00'].dropna())"
   ]
  },
  {
   "cell_type": "code",
   "execution_count": null,
   "metadata": {
    "tags": []
   },
   "outputs": [],
   "source": [
    "df_pred_all = pd.DataFrame(columns=['MAE', 'MSE', 'MAPE', 'SMAPE', 'R2', 'WAPE'], index=[x for x in range(2014, 2021)])\n",
    "\n",
    "for year in range(2014, 2021):\n",
    "    tmp = compute_metrics(df_forecast_res[(df_forecast_res.index >= f'{year}-01-01 00:00:00') & (df_forecast_res.index <= f'{year}-12-31 00:00:00')].dropna()).values\n",
    "    df_pred_all.loc[year, :] = tmp\n",
    "df_pred_all"
   ]
  },
  {
   "cell_type": "code",
   "execution_count": null,
   "metadata": {
    "tags": []
   },
   "outputs": [],
   "source": [
    "compute_metrics(df_forecast_res[(df_forecast_res.index >= '2014-01-01 00:00:00') & (df_forecast_res.index <= '2014-12-31 00:00:00')].dropna())"
   ]
  },
  {
   "cell_type": "code",
   "execution_count": null,
   "metadata": {
    "tags": []
   },
   "outputs": [],
   "source": [
    "compute_metrics(df_forecast_res[(df_forecast_res.index >= '2015-01-01 00:00:00') & (df_forecast_res.index <= '2015-12-31 00:00:00')].dropna())"
   ]
  },
  {
   "cell_type": "code",
   "execution_count": null,
   "metadata": {
    "tags": []
   },
   "outputs": [],
   "source": [
    "compute_metrics(df_forecast_res[(df_forecast_res.index >= '2016-01-01 00:00:00') & (df_forecast_res.index <= '2016-12-31 00:00:00')].dropna())"
   ]
  },
  {
   "cell_type": "code",
   "execution_count": null,
   "metadata": {
    "tags": []
   },
   "outputs": [],
   "source": [
    "compute_metrics(df_forecast_res[(df_forecast_res.index >= '2017-01-01 00:00:00') & (df_forecast_res.index <= '2017-12-31 00:00:00')].dropna())"
   ]
  },
  {
   "cell_type": "code",
   "execution_count": null,
   "metadata": {
    "tags": []
   },
   "outputs": [],
   "source": [
    "compute_metrics(df_forecast_res[(df_forecast_res.index >= '2017-01-01 00:00:00') & (df_forecast_res.index <= '2017-12-31 00:00:00')].dropna())"
   ]
  },
  {
   "cell_type": "code",
   "execution_count": null,
   "metadata": {
    "tags": []
   },
   "outputs": [],
   "source": [
    "compute_metrics(df_forecast_res[(df_forecast_res.index >= '2018-01-01 00:00:00') & (df_forecast_res.index <= '2018-12-31 00:00:00')].dropna())"
   ]
  },
  {
   "cell_type": "code",
   "execution_count": null,
   "metadata": {
    "tags": []
   },
   "outputs": [],
   "source": [
    "compute_metrics(df_forecast_res[(df_forecast_res.index >= '2019-01-01 00:00:00') & (df_forecast_res.index <= '2019-12-31 00:00:00')].dropna())"
   ]
  },
  {
   "cell_type": "code",
   "execution_count": null,
   "metadata": {
    "tags": []
   },
   "outputs": [],
   "source": [
    "compute_metrics(df_forecast_res[(df_forecast_res.index >= '2020-01-01 00:00:00') & (df_forecast_res.index <= '2020-12-31 00:00:00')].dropna())"
   ]
  },
  {
   "cell_type": "code",
   "execution_count": null,
   "metadata": {
    "tags": []
   },
   "outputs": [],
   "source": [
    "df_forecast_res_s = df_forecast_res[df_forecast_res.index >= '2013-01-05 00:00:00'].stack().reset_index().rename({'level_1': 'Type', 0: 'Value'}, axis=1)"
   ]
  },
  {
   "cell_type": "code",
   "execution_count": null,
   "metadata": {
    "tags": []
   },
   "outputs": [],
   "source": [
    "df_forecast_res_s"
   ]
  },
  {
   "cell_type": "code",
   "execution_count": null,
   "metadata": {
    "tags": []
   },
   "outputs": [],
   "source": [
    "df_err = df_forecast_res[df_forecast_res.index >= '2013-01-05 00:00:00'].copy()\n",
    "df_err.loc[:, 'AE'] = (df_err.y_true - df_err.y_pred).abs()\n",
    "df_err.loc[:, 'SE'] = (df_err.y_true - df_err.y_pred) ** 2\n",
    "df_err.loc[:, 'SAPE'] = ((df_err.y_pred - df_err.y_true).abs() / ((df_err.y_true.abs() + df_err.y_pred.abs())/2)) * 100\n",
    "df_err"
   ]
  },
  {
   "cell_type": "code",
   "execution_count": null,
   "metadata": {
    "tags": []
   },
   "outputs": [],
   "source": [
    "def plot_pred_bkps(data, my_bkps, from_dt=None, title=None, plot_metrics=True):\n",
    "    if from_dt:\n",
    "        data = data[data.index >= from_dt]\n",
    "    my_bkps = [x for x in my_bkps if x < len(data)]\n",
    "    \n",
    "    df_err = data.copy()\n",
    "    df_err.loc[:, 'AE'] = (df_err.y_true - df_err.y_pred).abs()\n",
    "    df_err.loc[:, 'SE'] = (df_err.y_true - df_err.y_pred) ** 2\n",
    "    df_err.loc[:, 'SAPE'] = ((df_err.y_pred - df_err.y_true).abs() / ((df_err.y_true.abs() + df_err.y_pred.abs())/2)) * 100\n",
    "    \n",
    "    fig = go.Figure()\n",
    "    fig.add_trace(go.Scatter(x=data.index, y=data.y_true,\n",
    "                            mode='lines',\n",
    "                            line_color='#333C83', name='y_true'))\n",
    "    \n",
    "    fig.add_trace(go.Scatter(x=data.index, y=data.y_pred,\n",
    "                            mode='lines',\n",
    "                            line_color='red', name='y_pred'))\n",
    "    clr_selection = 'green'\n",
    "    color_switch = lambda x: 'blue' if x != 'blue' else 'green'\n",
    "    \n",
    "    for idx, cp in enumerate(my_bkps):\n",
    "        if cp >= len(data):\n",
    "            break\n",
    "\n",
    "        fig.add_vline(x=data.index[cp], line_width=3, line_dash=\"dash\", line_color=\"red\")\n",
    "\n",
    "        if idx < len(my_bkps) - 2:\n",
    "            clr_selection = color_switch(clr_selection)\n",
    "            fig.add_vrect(x0=data.index[cp], x1=data.index[my_bkps[idx+1]], line_width=0, fillcolor=clr_selection, opacity=0.1)\n",
    "    \n",
    "    fig.update_layout(title=title)\n",
    "    fig.show()\n",
    "    \n",
    "    if plot_metrics:\n",
    "        for roll in [24, 24*7]:\n",
    "            fig = go.Figure()\n",
    "            fig.add_trace(go.Scatter(x=data.index, y=df_err['SAPE'].rolling(roll).mean(),\n",
    "                                    mode='lines',\n",
    "                                    line_color='#333C83', name=f'SAPE rolling({roll})'))\n",
    "\n",
    "            for idx, cp in enumerate(my_bkps):\n",
    "                    if cp >= len(data):\n",
    "                        break\n",
    "\n",
    "                    fig.add_vline(x=data.index[cp], line_width=3, line_dash=\"dash\", line_color=\"red\")\n",
    "\n",
    "            fig.update_layout(title=f'SAPE rolling({roll})')\n",
    "            fig.show()\n",
    "\n",
    "        for x in reversed(['SAPE']):\n",
    "            fig = go.Figure()\n",
    "            fig.add_trace(go.Scatter(x=data.index, y=df_err[x],\n",
    "                                    mode='lines',\n",
    "                                    line_color='#333C83', name=x))\n",
    "\n",
    "            for idx, cp in enumerate(my_bkps):\n",
    "                if cp >= len(data):\n",
    "                    break\n",
    "\n",
    "                fig.add_vline(x=data.index[cp], line_width=3, line_dash=\"dash\", line_color=\"red\")\n",
    "            fig.update_layout(title=x)\n",
    "            fig.show()"
   ]
  },
  {
   "cell_type": "code",
   "execution_count": null,
   "metadata": {
    "tags": []
   },
   "outputs": [],
   "source": [
    "plot_pred_bkps(df_forecast_res, my_bkps, '2013-01-05 00:00:00')"
   ]
  },
  {
   "cell_type": "code",
   "execution_count": null,
   "metadata": {
    "tags": []
   },
   "outputs": [],
   "source": [
    "plot_pred_bkps(df_forecast_res, my_bkps, '2014-01-01 00:00:00')"
   ]
  },
  {
   "cell_type": "code",
   "execution_count": null,
   "metadata": {
    "tags": []
   },
   "outputs": [],
   "source": [
    "def plot_pred_bkps_simple(data, my_bkps, from_dt=None, to_dt=None, title=None):\n",
    "    my_bkps = [x for x in my_bkps if x < len(data)]\n",
    "    dt_my_bkps = data.index[my_bkps]\n",
    "    if from_dt:\n",
    "        data = data[data.index >= from_dt]\n",
    "        \n",
    "    if to_dt:\n",
    "        data = data[data.index <= to_dt]\n",
    "    \n",
    "    dt_my_bkps = [x for x in dt_my_bkps if x >= pd.to_datetime(from_dt) and x <= pd.to_datetime(to_dt)]\n",
    "        \n",
    "    df_err = data.copy()\n",
    "    df_err.loc[:, 'AE'] = (df_err.y_true - df_err.y_pred).abs()\n",
    "    df_err.loc[:, 'SE'] = (df_err.y_true - df_err.y_pred) ** 2\n",
    "    df_err.loc[:, 'SAPE'] = ((df_err.y_pred - df_err.y_true).abs() / ((df_err.y_true.abs() + df_err.y_pred.abs())/2)) * 100\n",
    "    \n",
    "    fig = go.Figure()\n",
    "    fig.add_trace(go.Scatter(x=data.index, y=data.y_true,\n",
    "                            mode='lines',\n",
    "                            line_color='#333C83', name='y_true'))\n",
    "    \n",
    "    fig.add_trace(go.Scatter(x=data.index, y=data.y_pred,\n",
    "                            mode='lines',\n",
    "                            line_color='red', name='y_pred'))\n",
    "    clr_selection = 'green'\n",
    "    color_switch = lambda x: 'blue' if x != 'blue' else 'green'\n",
    "    \n",
    "    \n",
    "    \n",
    "    for idx, cp in enumerate(dt_my_bkps):\n",
    "        if cp >= data.index[-1]:\n",
    "            break\n",
    "\n",
    "        fig.add_vline(x=cp, line_width=3, line_dash=\"dash\", line_color=\"red\")\n",
    "\n",
    "        if idx < len(dt_my_bkps) - 2:\n",
    "            clr_selection = color_switch(clr_selection)\n",
    "            fig.add_vrect(x0=cp, x1=dt_my_bkps[idx+1], line_width=0, fillcolor=clr_selection, opacity=0.1)\n",
    "    \n",
    "    fig.update_layout(title=title)\n",
    "    fig.show()"
   ]
  },
  {
   "cell_type": "code",
   "execution_count": null,
   "metadata": {
    "tags": []
   },
   "outputs": [],
   "source": [
    "plot_pred_bkps_simple(df_forecast_res, my_bkps, '2013-01-05 00:00:00', '2013-12-30 00:00:00')"
   ]
  },
  {
   "cell_type": "code",
   "execution_count": null,
   "metadata": {
    "tags": []
   },
   "outputs": [],
   "source": [
    "plot_pred_bkps_simple(df_forecast_res, my_bkps, '2014-01-05 00:00:00', '2014-12-30 00:00:00')"
   ]
  },
  {
   "cell_type": "code",
   "execution_count": null,
   "metadata": {
    "tags": []
   },
   "outputs": [],
   "source": [
    "plot_pred_bkps_simple(df_forecast_res, my_bkps, '2019-01-05 00:00:00', '2019-12-30 00:00:00')"
   ]
  }
 ],
 "metadata": {
  "kernelspec": {
   "display_name": "Python 3 (ipykernel)",
   "language": "python",
   "name": "python3"
  },
  "language_info": {
   "codemirror_mode": {
    "name": "ipython",
    "version": 3
   },
   "file_extension": ".py",
   "mimetype": "text/x-python",
   "name": "python",
   "nbconvert_exporter": "python",
   "pygments_lexer": "ipython3",
   "version": "3.11.0rc1"
  }
 },
 "nbformat": 4,
 "nbformat_minor": 4
}
