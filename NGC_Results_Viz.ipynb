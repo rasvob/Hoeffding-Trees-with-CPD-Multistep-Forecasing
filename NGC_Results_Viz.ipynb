{
 "cells": [
  {
   "cell_type": "code",
   "execution_count": null,
   "id": "5d4ace25-d0e8-48da-b78b-8fea5bcbd6b4",
   "metadata": {
    "tags": []
   },
   "outputs": [],
   "source": [
    "import numpy as np\n",
    "import pandas as pd\n",
    "import matplotlib.pyplot as plt\n",
    "import seaborn as sns\n",
    "import plotly.express as px\n",
    "import plotly.graph_objects as go\n",
    "from plotly.subplots import make_subplots\n",
    "from plotly.offline import init_notebook_mode\n",
    "from IPython.display import display, HTML\n",
    "# init_notebook_mode(connected=False)\n",
    "init_notebook_mode()\n",
    "display(HTML(\n",
    "    '<script type=\"text/javascript\" async src=\"https://cdnjs.cloudflare.com/ajax/libs/mathjax/2.7.1/MathJax.js?config=TeX-MML-AM_SVG\"></script>'\n",
    "))\n",
    "pd.set_option('display.max_colwidth', 100)"
   ]
  },
  {
   "cell_type": "code",
   "execution_count": null,
   "id": "2647c58e-dc21-4a05-8597-98e61070cf08",
   "metadata": {
    "tags": []
   },
   "outputs": [],
   "source": [
    "from sklearn.model_selection import KFold, train_test_split, StratifiedKFold\n",
    "from sklearn.ensemble import RandomForestRegressor, AdaBoostRegressor, ExtraTreesRegressor\n",
    "from sklearn.metrics import accuracy_score, mean_absolute_error, mean_squared_error\n",
    "from sklearn.linear_model import Ridge, Lasso, ElasticNet\n",
    "from sklearn.preprocessing import StandardScaler, MinMaxScaler, RobustScaler\n",
    "from evaluation_metrics import compute_metrics, compute_metrics_csv, mean_absolute_percentage_error, symetric_mean_absolute_percentage_error"
   ]
  },
  {
   "cell_type": "code",
   "execution_count": null,
   "id": "fb5c9d57-9461-493a-9c41-4c0ae41876fe",
   "metadata": {
    "tags": []
   },
   "outputs": [],
   "source": [
    "from statsmodels.tsa.stattools import acf, pacf, ccf, ccovf\n",
    "from statsmodels.tsa.seasonal import STL\n",
    "from statsmodels.graphics.tsaplots import plot_acf, plot_pacf \n",
    "from statsmodels.tsa.stattools import adfuller, kpss\n",
    "from scipy.stats import boxcox, yeojohnson\n",
    "from scipy.spatial.distance import cosine, euclidean\n",
    "import rstl"
   ]
  },
  {
   "cell_type": "code",
   "execution_count": null,
   "id": "bb9bdf73-675f-4c2b-bfdf-e68ee070a717",
   "metadata": {
    "tags": []
   },
   "outputs": [],
   "source": [
    "from scipy.stats import boxcox, yeojohnson\n",
    "from dm_test import dm_test"
   ]
  },
  {
   "cell_type": "code",
   "execution_count": null,
   "id": "7e46b6a6-9f85-4221-a255-ef0034546b37",
   "metadata": {
    "tags": []
   },
   "outputs": [],
   "source": [
    "from tqdm.notebook import trange, tqdm\n",
    "from datetime import datetime\n",
    "import itertools\n",
    "from numpy.polynomial import Polynomial as P"
   ]
  },
  {
   "cell_type": "code",
   "execution_count": null,
   "id": "da6ee5a0-7c30-4d23-9bab-2dd807601c74",
   "metadata": {
    "tags": []
   },
   "outputs": [],
   "source": [
    "# from lightgbm import LGBMRegressor"
   ]
  },
  {
   "cell_type": "code",
   "execution_count": null,
   "id": "67b5e08e-48e9-4f75-971d-0d1bc7d6f1f0",
   "metadata": {
    "tags": []
   },
   "outputs": [],
   "source": [
    "import pickle\n",
    "import calendar"
   ]
  },
  {
   "cell_type": "code",
   "execution_count": null,
   "id": "d67ca386-6955-47db-8edd-82ae41d7a60e",
   "metadata": {
    "tags": []
   },
   "outputs": [],
   "source": [
    "import ruptures as rpt\n",
    "# from dtaidistance import dtw"
   ]
  },
  {
   "cell_type": "code",
   "execution_count": null,
   "id": "81d79fe1-7076-4972-91a4-f5cecfb636b1",
   "metadata": {
    "tags": []
   },
   "outputs": [],
   "source": [
    "from river import tree"
   ]
  },
  {
   "cell_type": "code",
   "execution_count": null,
   "id": "4fc257c0-aaff-42da-ba92-e17121856767",
   "metadata": {
    "tags": []
   },
   "outputs": [],
   "source": [
    "def plot_pred_bkps(data, my_bkps, from_dt=None, title=None):\n",
    "    if from_dt:\n",
    "        data = data[data.index >= from_dt]\n",
    "    my_bkps = [x for x in my_bkps if x < len(data)]\n",
    "    \n",
    "    df_err = data.copy()\n",
    "    df_err.loc[:, 'AE'] = (df_err.y_true - df_err.y_pred).abs()\n",
    "    df_err.loc[:, 'SE'] = (df_err.y_true - df_err.y_pred) ** 2\n",
    "    df_err.loc[:, 'SAPE'] = ((df_err.y_pred - df_err.y_true).abs() / ((df_err.y_true.abs() + df_err.y_pred.abs())/2)) * 100\n",
    "    \n",
    "    fig = go.Figure()\n",
    "    fig.add_trace(go.Scatter(x=data.index, y=data.y_true,\n",
    "                            mode='lines',\n",
    "                            line_color='#333C83', name='y_true'))\n",
    "    \n",
    "    fig.add_trace(go.Scatter(x=data.index, y=data.y_pred,\n",
    "                            mode='lines',\n",
    "                            line_color='red', name='y_pred'))\n",
    "    clr_selection = 'green'\n",
    "    color_switch = lambda x: 'blue' if x != 'blue' else 'green'\n",
    "    \n",
    "    for idx, cp in enumerate(my_bkps):\n",
    "        if cp >= len(data):\n",
    "            break\n",
    "\n",
    "        fig.add_vline(x=data.index[cp], line_width=3, line_dash=\"dash\", line_color=\"red\")\n",
    "\n",
    "        if idx < len(my_bkps) - 2:\n",
    "            clr_selection = color_switch(clr_selection)\n",
    "            fig.add_vrect(x0=data.index[cp], x1=data.index[my_bkps[idx+1]], line_width=0, fillcolor=clr_selection, opacity=0.1)\n",
    "    \n",
    "    fig.update_layout(title=title)\n",
    "    fig.show()\n",
    "    \n",
    "    for roll in [24, 24*7]:\n",
    "        fig = go.Figure()\n",
    "        fig.add_trace(go.Scatter(x=data.index, y=df_err['SAPE'].rolling(roll).mean(),\n",
    "                                mode='lines',\n",
    "                                line_color='#333C83', name=f'SAPE rolling({roll})'))\n",
    "\n",
    "        for idx, cp in enumerate(my_bkps):\n",
    "                if cp >= len(data):\n",
    "                    break\n",
    "\n",
    "                fig.add_vline(x=data.index[cp], line_width=3, line_dash=\"dash\", line_color=\"red\")\n",
    "\n",
    "        fig.update_layout(title=f'SAPE rolling({roll})')\n",
    "        fig.show()\n",
    "    \n",
    "    for x in reversed(['AE', 'SE', 'SAPE']):\n",
    "        fig = go.Figure()\n",
    "        fig.add_trace(go.Scatter(x=data.index, y=df_err[x],\n",
    "                                mode='lines',\n",
    "                                line_color='#333C83', name=x))\n",
    "\n",
    "        for idx, cp in enumerate(my_bkps):\n",
    "            if cp >= len(data):\n",
    "                break\n",
    "\n",
    "            fig.add_vline(x=data.index[cp], line_width=3, line_dash=\"dash\", line_color=\"red\")\n",
    "        fig.update_layout(title=x)\n",
    "        fig.show()"
   ]
  },
  {
   "cell_type": "code",
   "execution_count": null,
   "id": "f2b8ac87-faf5-4f31-96a3-b362a4bd00f3",
   "metadata": {
    "tags": []
   },
   "outputs": [],
   "source": [
    "# plot_pred_bkps(df_forecast_res, my_bkps, '2013-01-05 00:00:00')"
   ]
  },
  {
   "cell_type": "code",
   "execution_count": null,
   "id": "15e0f8eb-fb38-4223-8d00-8330e3c39727",
   "metadata": {
    "tags": []
   },
   "outputs": [],
   "source": [
    "# plot_pred_bkps(df_forecast_res, my_bkps, '2014-01-01 00:00:00')"
   ]
  },
  {
   "cell_type": "code",
   "execution_count": null,
   "id": "3e158b0b-b469-4182-bdc6-e763c9a9615b",
   "metadata": {
    "tags": []
   },
   "outputs": [],
   "source": [
    "# pd.set_option('display.precision', 5)\n",
    "# pd.set_option('display.float_format',  '{:.3g}'.format)"
   ]
  },
  {
   "cell_type": "code",
   "execution_count": null,
   "id": "98122d2b",
   "metadata": {},
   "outputs": [],
   "source": [
    "df = pd.read_csv('./Data/ppnet_metar_v8_2021.csv', sep=';', index_col=0)"
   ]
  },
  {
   "cell_type": "code",
   "execution_count": null,
   "id": "60280b78",
   "metadata": {},
   "outputs": [],
   "source": [
    "df = df[df.Year < 2021].copy()"
   ]
  },
  {
   "cell_type": "code",
   "execution_count": null,
   "id": "45e38b74",
   "metadata": {},
   "outputs": [],
   "source": [
    "df_temp_forecast = pd.read_csv('./Data/yrno_temperature.csv', sep=';', index_col=0, decimal=',')\n",
    "df_temp_forecast.index = pd.DatetimeIndex(pd.Series(df_temp_forecast.index).apply(lambda x: datetime.strptime(x, '%d.%m.%Y %H:%M')))\n",
    "df_temp_forecast = df_temp_forecast.iloc[:, 1].groupby(df_temp_forecast.index).mean()"
   ]
  },
  {
   "cell_type": "code",
   "execution_count": null,
   "id": "e9132bfa",
   "metadata": {},
   "outputs": [],
   "source": [
    "df_el = pd.read_csv('./Data/raw_electricity_2021.csv', sep=',', index_col=0).Load_ffill\n",
    "df_el.index = pd.DatetimeIndex(df_el.index)"
   ]
  },
  {
   "cell_type": "code",
   "execution_count": null,
   "id": "edac1001",
   "metadata": {},
   "outputs": [],
   "source": [
    "df.loc[:, 'TestSet'] = 0\n",
    "df.loc[df.Year == 2021, 'TestSet'] = 1"
   ]
  },
  {
   "cell_type": "code",
   "execution_count": null,
   "id": "63ae08ac",
   "metadata": {},
   "outputs": [],
   "source": [
    "fig = px.line(y=df['Consumption'], x=df.index, color=df.Year, labels={'x': 'Datetime', 'y':  'Gas Consumption'})\n",
    "fig.update_layout(showlegend=False, yaxis_title=r'$\\text{Gas Consumption } (m^3/h)$')\n",
    "\n",
    "fig.update_layout(\n",
    "    font=dict(\n",
    "        # family=\"Courier New, monospace\",\n",
    "        size=24,\n",
    "        # color=\"RebeccaPurple\"\n",
    "    ),\n",
    "    title_font=dict(size=24)\n",
    ")\n",
    "fig.show()\n",
    "fig.write_image('Results/ngc_ts_plot.png', width=1920, height=600)\n",
    "# fig.write_image('Results/ngc_ts_plot.pdf', width=1200, height=800)"
   ]
  },
  {
   "cell_type": "code",
   "execution_count": null,
   "id": "297de14d",
   "metadata": {},
   "outputs": [],
   "source": [
    "fig = px.line(y=df['Temperature'], x=df.index, color=df.Year, labels={'x': 'Datetime', 'y':  'Temperature'})\n",
    "fig.update_layout(showlegend=False, yaxis_title=r'$\\text{Temperature } (°C)$')\n",
    "\n",
    "fig.update_layout(\n",
    "    font=dict(\n",
    "        # family=\"Courier New, monospace\",\n",
    "        size=22,\n",
    "        # color=\"RebeccaPurple\"\n",
    "    ),\n",
    "    title_font=dict(size=24)\n",
    ")\n",
    "fig.show()\n",
    "fig.write_image('Results/temp_ts_plot.png', width=1920, height=600)\n",
    "# fig.write_image('Results/ngc_ts_plot.pdf', width=1200, height=800)"
   ]
  },
  {
   "cell_type": "code",
   "execution_count": null,
   "id": "4ea65900",
   "metadata": {},
   "outputs": [],
   "source": [
    "fig = px.line(y=df_el[df_el.index <= '2020-12-31 23:00:00'], x=df_el[df_el.index <= '2020-12-31 23:00:00'].index, color=df.Year, labels={'x': 'Datetime', 'y':  'Electricity load'})\n",
    "fig.update_layout(showlegend=False, yaxis_title=r'$\\text{Electricity load } (MW)$')\n",
    "\n",
    "fig.update_layout(\n",
    "    font=dict(\n",
    "        # family=\"Courier New, monospace\",\n",
    "        size=24,\n",
    "        # color=\"RebeccaPurple\"\n",
    "    ),\n",
    "    title_font=dict(size=24)\n",
    ")\n",
    "fig.show()\n",
    "fig.write_image('Results/el_ts_plot.png', width=1920, height=600)\n",
    "# fig.write_image('Results/ngc_ts_plot.pdf', width=1200, height=800)"
   ]
  },
  {
   "cell_type": "code",
   "execution_count": null,
   "id": "df37bc97-4080-493e-b43b-1f646ffa25c4",
   "metadata": {
    "tags": []
   },
   "outputs": [],
   "source": [
    "gas_results_dict = {\n",
    "    'SMCA': 'Results/NGC_HT_Day2Day_Online_2021.csv',\n",
    "    'QDMDC': 'Results/NGC_HT_Day2Day_BySeason_2021.csv',\n",
    "    'PCPDMC (Low)': 'Results/NGC_HT_Day2Day_ByCP_LOW_2021.csv',\n",
    "    'PCPDMC (Medium)': 'Results/NGC_HT_Day2Day_ByCP_MED_2021.csv',\n",
    "    'PCPDMC (High)': 'Results/NGC_HT_Day2Day_ByCP_HIGH_2021.csv',\n",
    "    'MCPDMC (Low,WAVG)': 'Results/NGC_HT_Day2Day_ByCP_LOW_ERR_WAVG_2021.csv',\n",
    "    'MCPDMC (Medium,WAVG)': 'Results/NGC_HT_Day2Day_ByCP_MED_ERR_WAVG_2021.csv',\n",
    "    'MCPDMC (High,WAVG)': 'Results/NGC_HT_Day2Day_ByCP_HIGH_ERR_WAVG_2021.csv',\n",
    "    'MCPDMC (Low,SWITCH)': 'Results/NGC_HT_Day2Day_ByCP_LOW_ERR_Switch_2021.csv',\n",
    "    'MCPDMC (Medium,SWITCH)': 'Results/NGC_HT_Day2Day_ByCP_MED_ERR_Switch_2021.csv',\n",
    "    'MCPDMC (High,SWITCH)': 'Results/NGC_HT_Day2Day_ByCP_HIGH_ERR_Switch_2021.csv',\n",
    "    'FCN-L-SMCA': 'Results/NGC_FCN_BIG_Day2Day_Online.csv',\n",
    "    'FCN-M-SMCA': 'Results/NGC_FCN_MEDIUM_Day2Day_Online.csv',\n",
    "    'FCN-S-SMCA': 'Results/NGC_FCN_SMALL_Day2Day_Online.csv',\n",
    "    'LSTM-L-SMCA': 'Results/NGC_LSTM_BIG_Day2Day_Online.csv',\n",
    "    'LSTM-M-SMCA': 'Results/NGC_LSTM_MEDIUM_Day2Day_Online.csv',\n",
    "    'LSTM-S-SMCA': 'Results/NGC_LSTM_SMALL_Day2Day_Online.csv',\n",
    "    'GRU-L-SMCA': 'Results/NGC_GRU_BIG_Day2Day_Online.csv',\n",
    "    'GRU-M-SMCA': 'Results/NGC_GRU_MEDIUM_Day2Day_Online.csv',\n",
    "    'GRU-S-SMCA': 'Results/NGC_GRU_SMALL_Day2Day_Online.csv',\n",
    "    'FCN-L-QDMDC': 'Results/NGC_FCN_BIG_Day2Day_BySeason_2021.csv',\n",
    "    'FCN-M-QDMDC': 'Results/NGC_FCN_MEDIUM_Day2Day_BySeason_2021.csv',\n",
    "    'FCN-S-QDMDC': 'Results/NGC_FCN_SMALL_Day2Day_BySeason_2021.csv',\n",
    "    'LSTM-L-QDMDC': 'Results/NGC_LSTM_BIG_Day2Day_BySeason_2021.csv',\n",
    "    'LSTM-M-QDMDC': 'Results/NGC_LSTM_MEDIUM_Day2Day_BySeason_2021.csv',\n",
    "    'LSTM-S-QDMDC': 'Results/NGC_LSTM_SMALL_Day2Day_BySeason_2021.csv',\n",
    "    'GRU-L-QDMDC': 'Results/NGC_GRU_BIG_Day2Day_BySeason_2021.csv',\n",
    "    'GRU-M-QDMDC': 'Results/NGC_GRU_MEDIUM_Day2Day_BySeason_2021.csv',\n",
    "    'GRU-S-QDMDC': 'Results/NGC_GRU_SMALL_Day2Day_BySeason_2021.csv',\n",
    "    'FCN-L-PCPDMC (Low)': 'Results/NGC_FCN_BIG_Day2Day_ByCP_LOW_2021.csv',\n",
    "    'FCN-M-PCPDMC (Low)': 'Results/NGC_FCN_MEDIUM_Day2Day_ByCP_LOW_2021.csv',\n",
    "    'FCN-S-PCPDMC (Low)': 'Results/NGC_FCN_SMALL_Day2Day_ByCP_LOW_2021.csv',\n",
    "    'FCN-L-PCPDMC (Medium)': 'Results/NGC_FCN_BIG_Day2Day_ByCP_MED_2021.csv',\n",
    "    'FCN-M-PCPDMC (Medium)': 'Results/NGC_FCN_MEDIUM_Day2Day_ByCP_MED_2021.csv',\n",
    "    'FCN-S-PCPDMC (Medium)': 'Results/NGC_FCN_SMALL_Day2Day_ByCP_MED_2021.csv',\n",
    "    'FCN-L-PCPDMC (High)': 'Results/NGC_FCN_BIG_Day2Day_ByCP_HIGH_2021.csv',\n",
    "    'FCN-M-PCPDMC (High)': 'Results/NGC_FCN_MEDIUM_Day2Day_ByCP_HIGH_2021.csv',\n",
    "    'FCN-S-PCPDMC (High)': 'Results/NGC_FCN_SMALL_Day2Day_ByCP_HIGH_2021.csv',\n",
    "    'LSTM-L-PCPDMC (Low)': 'Results/NGC_LSTM_BIG_Day2Day_ByCP_LOW_2021.csv',\n",
    "    'LSTM-M-PCPDMC (Low)': 'Results/NGC_LSTM_MEDIUM_Day2Day_ByCP_LOW_2021.csv',\n",
    "    'LSTM-S-PCPDMC (Low)': 'Results/NGC_LSTM_SMALL_Day2Day_ByCP_LOW_2021.csv',\n",
    "    'LSTM-L-PCPDMC (Medium)': 'Results/NGC_LSTM_BIG_Day2Day_ByCP_MED_2021.csv',\n",
    "    'LSTM-M-PCPDMC (Medium)': 'Results/NGC_LSTM_MEDIUM_Day2Day_ByCP_MED_2021.csv',\n",
    "    'LSTM-S-PCPDMC (Medium)': 'Results/NGC_LSTM_SMALL_Day2Day_ByCP_MED_2021.csv',\n",
    "    'LSTM-L-PCPDMC (High)': 'Results/NGC_LSTM_BIG_Day2Day_ByCP_HIGH_2021.csv',\n",
    "    'LSTM-M-PCPDMC (High)': 'Results/NGC_LSTM_MEDIUM_Day2Day_ByCP_HIGH_2021.csv',\n",
    "    'LSTM-S-PCPDMC (High)': 'Results/NGC_LSTM_SMALL_Day2Day_ByCP_HIGH_2021.csv',\n",
    "    'GRU-L-PCPDMC (Low)': 'Results/NGC_GRU_BIG_Day2Day_ByCP_LOW_2021.csv',\n",
    "    'GRU-M-PCPDMC (Low)': 'Results/NGC_GRU_MEDIUM_Day2Day_ByCP_LOW_2021.csv',\n",
    "    'GRU-S-PCPDMC (Low)': 'Results/NGC_GRU_SMALL_Day2Day_ByCP_LOW_2021.csv',\n",
    "    'GRU-L-PCPDMC (Medium)': 'Results/NGC_GRU_BIG_Day2Day_ByCP_MED_2021.csv',\n",
    "    'GRU-M-PCPDMC (Medium)': 'Results/NGC_GRU_MEDIUM_Day2Day_ByCP_MED_2021.csv',\n",
    "    'GRU-S-PCPDMC (Medium)': 'Results/NGC_GRU_SMALL_Day2Day_ByCP_MED_2021.csv',\n",
    "    'GRU-L-PCPDMC (High)': 'Results/NGC_GRU_BIG_Day2Day_ByCP_HIGH_2021.csv',\n",
    "    'GRU-M-PCPDMC (High)': 'Results/NGC_GRU_MEDIUM_Day2Day_ByCP_HIGH_2021.csv',\n",
    "    'GRU-S-PCPDMC (High)': 'Results/NGC_GRU_SMALL_Day2Day_ByCP_HIGH_2021.csv',\n",
    "}"
   ]
  },
  {
   "cell_type": "code",
   "execution_count": null,
   "id": "7813f2ad",
   "metadata": {},
   "outputs": [],
   "source": [
    "el_results_dict = {k: v.replace('Results/NGC', 'Results/EL').replace('ERR_Switch_2021', 'Switch_2021') for k,v in gas_results_dict.items()}\n"
   ]
  },
  {
   "cell_type": "code",
   "execution_count": null,
   "id": "bed7f647-f309-40b0-b644-2f713ee88c22",
   "metadata": {
    "tags": []
   },
   "outputs": [],
   "source": [
    "results_gas = {k: pd.read_csv(v, sep=',', index_col=0) for k,v in gas_results_dict.items()}\n",
    "results_el = {k: pd.read_csv(v, sep=',', index_col=0) for k,v in el_results_dict.items()}"
   ]
  },
  {
   "cell_type": "code",
   "execution_count": null,
   "id": "2adccd30-78e5-4820-b584-d69d85654e54",
   "metadata": {
    "tags": []
   },
   "outputs": [],
   "source": [
    "global_metrics_gas = {k: compute_metrics(v[v.index >= '2014-01-05 00:00:00'].dropna()).loc[:, ['MAE', 'MSE', 'SMAPE']] for k,v in results_gas.items()}\n",
    "global_metrics_el = {k: compute_metrics(v[v.index >= '2014-01-05 00:00:00'].dropna()).loc[:, ['MAE', 'MSE', 'SMAPE']] for k,v in results_el.items()}"
   ]
  },
  {
   "cell_type": "code",
   "execution_count": null,
   "id": "db361e92-fe95-4989-928b-4c1757261e2c",
   "metadata": {
    "tags": []
   },
   "outputs": [],
   "source": [
    "from decimal import Decimal\n",
    "pd.set_option('display.precision', 3)\n",
    "pd.set_option('display.float_format',  '{:.4g}'.format)\n",
    "# pd.set_option('display.float_format',  None)"
   ]
  },
  {
   "cell_type": "code",
   "execution_count": null,
   "id": "b20c46fc-53dd-4c9f-8ee5-617d748e6d74",
   "metadata": {},
   "outputs": [],
   "source": [
    "df_global_gas = pd.DataFrame(columns=global_metrics_gas['SMCA'].columns, index=list(global_metrics_gas.keys()))\n",
    "for k,v in global_metrics_gas.items():\n",
    "    df_global_gas.loc[k, :] = v.values"
   ]
  },
  {
   "cell_type": "code",
   "execution_count": null,
   "id": "7144d6fc",
   "metadata": {},
   "outputs": [],
   "source": [
    "df_global_el = pd.DataFrame(columns=global_metrics_el['SMCA'].columns, index=list(global_metrics_el.keys()))\n",
    "for k,v in global_metrics_el.items():\n",
    "    df_global_el.loc[k, :] = v.values"
   ]
  },
  {
   "cell_type": "code",
   "execution_count": null,
   "id": "63455cb3-753c-40ba-8be8-531f0f6ebbe1",
   "metadata": {
    "tags": []
   },
   "outputs": [],
   "source": [
    "df_global_gas"
   ]
  },
  {
   "cell_type": "code",
   "execution_count": null,
   "id": "d6364063",
   "metadata": {},
   "outputs": [],
   "source": [
    "df_global_el"
   ]
  },
  {
   "cell_type": "code",
   "execution_count": null,
   "id": "cb4c7ce8",
   "metadata": {},
   "outputs": [],
   "source": [
    "df_global_gas.shape, df_global_el.shape"
   ]
  },
  {
   "cell_type": "code",
   "execution_count": null,
   "id": "2afb17a3-4687-4761-97cd-1677b2253832",
   "metadata": {
    "tags": []
   },
   "outputs": [],
   "source": [
    "def year_metrics(df_forecast_res):\n",
    "    df_pred_all = pd.DataFrame(columns=['MAE', 'MSE', 'SMAPE'], index=[x for x in range(2014, 2021)])\n",
    "\n",
    "    for year in range(2014, 2021):\n",
    "        tmp = compute_metrics(df_forecast_res[(df_forecast_res.index >= f'{year}-01-01 00:00:00') & (df_forecast_res.index <= f'{year}-12-31 00:00:00')].dropna()).loc[:, ['MAE', 'MSE', 'SMAPE']].values\n",
    "        df_pred_all.loc[year, :] = tmp\n",
    "    return df_pred_all"
   ]
  },
  {
   "cell_type": "code",
   "execution_count": null,
   "id": "3f5edae1-1886-47f1-977a-d64178994fe3",
   "metadata": {
    "tags": []
   },
   "outputs": [],
   "source": [
    "yearly_metrics_gas = {k: year_metrics(v) for k,v in results_gas.items()}\n",
    "yearly_metrics_el = {k: year_metrics(v) for k,v in results_el.items()}"
   ]
  },
  {
   "cell_type": "code",
   "execution_count": null,
   "id": "64f457d3-4999-49ad-812c-2b4bd45915f5",
   "metadata": {
    "tags": []
   },
   "outputs": [],
   "source": [
    "yearly_metrics_gas['SMCA']"
   ]
  },
  {
   "cell_type": "code",
   "execution_count": null,
   "id": "c2ab014a-17d3-4265-9b8f-239f28f738d6",
   "metadata": {
    "tags": []
   },
   "outputs": [],
   "source": [
    "df_detail = pd.DataFrame(columns=global_metrics_gas['SMCA'].columns)\n",
    "for k,v in yearly_metrics_gas.items():\n",
    "    df_detail = pd.concat([df_detail, pd.DataFrame(index=[k], columns=global_metrics_gas['SMCA'].columns)])\n",
    "    df_detail = pd.concat([df_detail, v])"
   ]
  },
  {
   "cell_type": "code",
   "execution_count": null,
   "id": "b2635333-b5e3-4cb5-b549-f52e6f3930af",
   "metadata": {
    "tags": []
   },
   "outputs": [],
   "source": [
    "skip = 0\n",
    "df_detail.iloc[8*skip:8*skip+8]"
   ]
  },
  {
   "cell_type": "code",
   "execution_count": null,
   "id": "cc2cee5c-ae78-4b65-8b85-d6d7e79271ec",
   "metadata": {},
   "outputs": [],
   "source": [
    "df_detail"
   ]
  },
  {
   "cell_type": "code",
   "execution_count": null,
   "id": "07f1d07f-285b-45a1-85a9-ef7fb5dc3dce",
   "metadata": {
    "tags": []
   },
   "outputs": [],
   "source": [
    "yearly_metrics_gas.keys()"
   ]
  },
  {
   "cell_type": "markdown",
   "id": "8a53428c",
   "metadata": {},
   "source": [
    "## Diebold-Mariano Test"
   ]
  },
  {
   "cell_type": "code",
   "execution_count": null,
   "id": "9bf416f2",
   "metadata": {},
   "outputs": [],
   "source": [
    "for k, v in results_gas.items():\n",
    "    if v.iloc[:, 0].shape != v.iloc[:, 1].shape:\n",
    "        print(k, v.iloc[:, 0].shape, v.iloc[:, 1].shape, v.iloc[:, 0].shape == v.iloc[:, 1].shape)"
   ]
  },
  {
   "cell_type": "code",
   "execution_count": null,
   "id": "d674ae38",
   "metadata": {},
   "outputs": [],
   "source": [
    "for k, v in results_el.items():\n",
    "    if v.iloc[:, 0].shape != v.iloc[:, 1].shape:\n",
    "        print(k, v.iloc[:, 0].shape, v.iloc[:, 1].shape, v.iloc[:, 0].shape == v.iloc[:, 1].shape)"
   ]
  },
  {
   "cell_type": "code",
   "execution_count": null,
   "id": "7853c7c4",
   "metadata": {},
   "outputs": [],
   "source": []
  },
  {
   "cell_type": "code",
   "execution_count": null,
   "id": "39e31f7a",
   "metadata": {},
   "outputs": [],
   "source": [
    "df_dm_gas = pd.DataFrame(columns=results_gas.keys(), index=results_gas.keys())\n",
    "\n",
    "for k1, v1 in tqdm(results_gas.items()):\n",
    "    for k2, v2 in tqdm(results_gas.items()):\n",
    "        if k1 != k2:\n",
    "            try:\n",
    "                # Use the same index for both series\n",
    "                start_idx, end_idx = '2014-01-05 00:00:00', '2020-12-30 00:00:00'\n",
    "                v1 = v1[(v1.index >= start_idx) & (v1.index <= end_idx)]\n",
    "                v2 = v2[(v2.index >= start_idx) & (v2.index <= end_idx)]\n",
    "                idx = v1.index.intersection(v2.index)\n",
    "                v1 = v1.loc[idx]\n",
    "                v2 = v2.loc[idx]\n",
    "                df_dm_gas.loc[k1, k2] = dm_test(v1.y_true, v1.y_pred, v2.y_pred, h = 24)\n",
    "                df_dm_gas.loc[k2, k1] = dm_test(v1.y_true, v1.y_pred, v2.y_pred, h = 24)\n",
    "            except Exception as e:\n",
    "                print(k1, k2, v1.dtypes, v2.dtypes, v1.shape, v2.shape, e)\n",
    "            "
   ]
  },
  {
   "cell_type": "code",
   "execution_count": null,
   "id": "811b6fff",
   "metadata": {},
   "outputs": [],
   "source": [
    "df_dm_gas.to_csv('Results/dm_gas.csv', sep=';')"
   ]
  },
  {
   "cell_type": "code",
   "execution_count": null,
   "id": "55f1c8b9",
   "metadata": {},
   "outputs": [],
   "source": [
    "def map_tuples_to_p_values(x):\n",
    "    if type(x) == float:\n",
    "        return x\n",
    "    else:\n",
    "        x = x[1]\n",
    "        return x"
   ]
  },
  {
   "cell_type": "code",
   "execution_count": null,
   "id": "37f7b711",
   "metadata": {},
   "outputs": [],
   "source": [
    "df_dm_gas_post_process = df_dm_gas.copy()\n",
    "df_dm_gas_post_process = df_dm_gas_post_process.applymap(map_tuples_to_p_values)\n",
    "selected_models = ['SMCA', 'QDMDC', 'FCN-M-SMCA', 'FCN-M-QDMDC', 'FCN-M-PCPDMC (Low)', 'MCPDMC (Low,WAVG)', 'PCPDMC (Low)', 'PCPDMC (Medium)', 'PCPDMC (High)']\n",
    "df_dm_gas_post_process = df_dm_gas_post_process.loc[selected_models, selected_models]\n",
    "\n",
    "rename_dict = {\n",
    "    'SMCA': 'HT-SMCA',\n",
    "    'QDMDC': 'HT-QDMDC',\n",
    "    'PCPDMC (Low)': 'HT-PCPDMC (Low)',\n",
    "    'MCPDMC (Low,WAVG)': 'HT-MCPDMC-WA (Low)',\n",
    "    'MCPDMC (Low,SWITCH)': 'HT-MCPDMC-SW',\n",
    "    'PCPDMC (Medium)': 'HT-PCPDMC (Medium)',\n",
    "    'MCPDMC (Medium,WAVG)': 'HT-MCPDMC-WA',\n",
    "    'MCPDMC (Medium,SWITCH)': 'HT-MCPDMC-SW',\n",
    "    'PCPDMC (High)': 'HT-PCPDMC (High)',\n",
    "    'MCPDMC (High,WAVG)': 'HT-MCPDMC-WA',\n",
    "    'MCPDMC (High,SWITCH)': 'HT-MCPDMC-SW',\n",
    "    'FCN-M-SMCA': 'FCN-SMCA (M)',\n",
    "    'FCN-M-QDMDC': 'FCN-QDMDC (M)',\n",
    "    'FCN-M-PCPDMC (Low)': 'FCN-PCPDMC (M, Low)',\n",
    "    'FCN-M-PCPDMC (Medium)': 'FCN-PCPDMC (M, Medium)',\n",
    "    'FCN-M-PCPDMC (High)': 'FCN-PCPDMC (M, High)',\n",
    "}\n",
    "\n",
    "\n",
    "\n",
    "fig = plt.figure(figsize=(8, 8))\n",
    "sns.heatmap(df_dm_gas_post_process.rename(index=rename_dict, columns=rename_dict, inplace=False).astype(float), annot=True, cmap='Greens', fmt=\".2g\", cbar=False, linewidths=0.1, linecolor='black', annot_kws={\"size\": 10}, square=True, vmin=0, vmax=0.05)\n",
    "plt.show()\n",
    "fig.tight_layout()\n",
    "fig.savefig('Results/dm_gas_heatmap.png', bbox_inches='tight')"
   ]
  },
  {
   "cell_type": "code",
   "execution_count": null,
   "id": "7e1e4408",
   "metadata": {},
   "outputs": [],
   "source": [
    "df_dm_el = pd.read_csv('Results/dm_el_post_process.csv', sep=';', index_col=0)\n",
    "df_dm_el_post_process = df_dm_el.copy()\n",
    "\n",
    "selected_models = ['SMCA', 'QDMDC', 'FCN-S-SMCA', 'FCN-M-QDMDC', 'FCN-M-PCPDMC (Low)', 'PCPDMC (Low)', 'PCPDMC (Medium)', 'PCPDMC (High)']\n",
    "df_dm_el_post_process = df_dm_el_post_process.loc[selected_models, selected_models]\n",
    "\n",
    "rename_dict = {\n",
    "    'SMCA': 'HT-SMCA',\n",
    "    'QDMDC': 'HT-QDMDC',\n",
    "    'PCPDMC (Low)': 'HT-PCPDMC (Low)',\n",
    "    'MCPDMC (Low,WAVG)': 'HT-MCPDMC-WA (Low)',\n",
    "    'MCPDMC (Low,SWITCH)': 'HT-MCPDMC-SW',\n",
    "    'PCPDMC (Medium)': 'HT-PCPDMC (Medium)',\n",
    "    'MCPDMC (Medium,WAVG)': 'HT-MCPDMC-WA',\n",
    "    'MCPDMC (Medium,SWITCH)': 'HT-MCPDMC-SW',\n",
    "    'PCPDMC (High)': 'HT-PCPDMC (High)',\n",
    "    'MCPDMC (High,WAVG)': 'HT-MCPDMC-WA',\n",
    "    'MCPDMC (High,SWITCH)': 'HT-MCPDMC-SW',\n",
    "    'FCN-M-SMCA': 'FCN-SMCA (M)',\n",
    "    'FCN-S-SMCA': 'FCN-SMCA (S)',\n",
    "    'FCN-M-QDMDC': 'FCN-QDMDC (M)',\n",
    "    'FCN-M-PCPDMC (Low)': 'FCN-PCPDMC (M, Low)',\n",
    "    'FCN-M-PCPDMC (Medium)': 'FCN-PCPDMC (M, Medium)',\n",
    "    'FCN-M-PCPDMC (High)': 'FCN-PCPDMC (M, High)',\n",
    "}\n",
    "\n",
    "\n",
    "\n",
    "fig = plt.figure(figsize=(8, 8))\n",
    "sns.heatmap(df_dm_el_post_process.rename(index=rename_dict, columns=rename_dict, inplace=False).astype(float), annot=True, cmap='Greens', fmt=\".2g\", cbar=False, linewidths=0.1, linecolor='black', annot_kws={\"size\": 10}, square=True, vmin=0, vmax=0.05)\n",
    "plt.show()\n",
    "fig.tight_layout()\n",
    "fig.savefig('Results/dm_el_heatmap.png', bbox_inches='tight')"
   ]
  },
  {
   "cell_type": "code",
   "execution_count": null,
   "id": "a9f1d678",
   "metadata": {},
   "outputs": [],
   "source": [
    "df_dm_gas_post_process = df_dm_gas.copy()\n",
    "df_dm_gas_post_process = df_dm_gas_post_process.applymap(map_tuples_to_p_values)\n",
    "selected_models = ['SMCA', 'QDMDC', 'FCN-M-SMCA', 'FCN-M-QDMDC', 'FCN-M-PCPDMC (Low)', 'MCPDMC (Low,WAVG)', 'PCPDMC (Low)', 'PCPDMC (Medium)', 'PCPDMC (High)']\n",
    "df_dm_gas_post_process = df_dm_gas_post_process.loc[selected_models, selected_models]\n",
    "\n",
    "rename_dict = {\n",
    "    'SMCA': 'HT-SMCA',\n",
    "    'QDMDC': 'HT-QDMDC',\n",
    "    'PCPDMC (Low)': 'HT-PCPDMC (Low)',\n",
    "    'MCPDMC (Low,WAVG)': 'HT-MCPDMC-WA (Low)',\n",
    "    'MCPDMC (Low,SWITCH)': 'HT-MCPDMC-SW',\n",
    "    'PCPDMC (Medium)': 'HT-PCPDMC (Medium)',\n",
    "    'MCPDMC (Medium,WAVG)': 'HT-MCPDMC-WA',\n",
    "    'MCPDMC (Medium,SWITCH)': 'HT-MCPDMC-SW',\n",
    "    'PCPDMC (High)': 'HT-PCPDMC (High)',\n",
    "    'MCPDMC (High,WAVG)': 'HT-MCPDMC-WA',\n",
    "    'MCPDMC (High,SWITCH)': 'HT-MCPDMC-SW',\n",
    "    'FCN-M-SMCA': 'FCN-SMCA (M)',\n",
    "    'FCN-M-QDMDC': 'FCN-QDMDC (M)',\n",
    "    'FCN-M-PCPDMC (Low)': 'FCN-PCPDMC (M, Low)',\n",
    "    'FCN-M-PCPDMC (Medium)': 'FCN-PCPDMC (M, Medium)',\n",
    "    'FCN-M-PCPDMC (High)': 'FCN-PCPDMC (M, High)',\n",
    "}\n",
    "\n",
    "\n",
    "\n",
    "fig = plt.figure(figsize=(8, 8))\n",
    "sns.heatmap(df_dm_gas_post_process.rename(index=rename_dict, columns=rename_dict, inplace=False).astype(float), annot=True, cmap='Greens', fmt=\".2g\", cbar=False, linewidths=0.1, linecolor='black', annot_kws={\"size\": 10}, square=True, vmin=0, vmax=0.05)\n",
    "plt.show()\n",
    "fig.tight_layout()\n",
    "fig.savefig('Results/dm_gas_heatmap.png', bbox_inches='tight')"
   ]
  },
  {
   "cell_type": "code",
   "execution_count": null,
   "id": "66e60b4a",
   "metadata": {},
   "outputs": [],
   "source": []
  },
  {
   "cell_type": "code",
   "execution_count": null,
   "id": "ecbe0da6-e9ab-4bb2-9a89-abdea0bb0323",
   "metadata": {
    "tags": []
   },
   "outputs": [],
   "source": [
    "fig = go.Figure()\n",
    "\n",
    "mode = 'High'\n",
    "metric = 'SMAPE'\n",
    "keys_dict = {\n",
    "    'Low': ['SMCA', 'QDMDC', 'PCPDMC (Low)', 'MCPDMC (Low,WAVG)', 'MCPDMC (Low,SWITCH)', 'FCN-M-SMCA', 'FCN-M-QDMDC', 'FCN-M-PCPDMC (Low)'],\n",
    "    'Medium': ['SMCA', 'QDMDC', 'PCPDMC (Medium)', 'MCPDMC (Medium,WAVG)', 'MCPDMC (Medium,SWITCH)', 'FCN-M-SMCA', 'FCN-M-QDMDC', 'FCN-M-PCPDMC (Medium)'],\n",
    "    'High': ['SMCA', 'QDMDC', 'PCPDMC (High)', 'MCPDMC (High,WAVG)', 'MCPDMC (High,SWITCH)', 'FCN-M-SMCA', 'FCN-M-QDMDC', 'FCN-M-PCPDMC (High)'],\n",
    "}\n",
    "# keys = [x for x in yearly_metrics_gas.keys() if mode in x or 'SMCA' in x or 'QDMDC' in x]\n",
    "keys = keys_dict[mode]\n",
    "years = yearly_metrics_gas['SMCA'].index\n",
    "\n",
    "rename_dict = {\n",
    "    'SMCA': 'HT-SMCA',\n",
    "    'QDMDC': 'HT-QDMDC',\n",
    "    'PCPDMC (Low)': 'HT-PCPDMC',\n",
    "    'MCPDMC (Low,WAVG)': 'HT-MCPDMC-WA',\n",
    "    'MCPDMC (Low,SWITCH)': 'HT-MCPDMC-SW',\n",
    "    'PCPDMC (Medium)': 'HT-PCPDMC',\n",
    "    'MCPDMC (Medium,WAVG)': 'HT-MCPDMC-WA',\n",
    "    'MCPDMC (Medium,SWITCH)': 'HT-MCPDMC-SW',\n",
    "    'PCPDMC (High)': 'HT-PCPDMC',\n",
    "    'MCPDMC (High,WAVG)': 'HT-MCPDMC-WA',\n",
    "    'MCPDMC (High,SWITCH)': 'HT-MCPDMC-SW',\n",
    "    'FCN-M-SMCA': 'FCN-SMCA (M)',\n",
    "    'FCN-M-QDMDC': 'FCN-QDMDC (M)',\n",
    "    'FCN-M-PCPDMC (Low)': 'FCN-PCPDMC (M)',\n",
    "    'FCN-M-PCPDMC (Medium)': 'FCN-PCPDMC (M)',\n",
    "    'FCN-M-PCPDMC (High)': 'FCN-PCPDMC (M)',\n",
    "}\n",
    "\n",
    "for k in keys:\n",
    "    data = yearly_metrics_gas[k]\n",
    "    # name = k.replace(f'({mode},', '').replace(f'({mode})', '').replace(f' WAVG)', '-WA').replace(f' SWITCH)', '-SW')\n",
    "    name = rename_dict[k]\n",
    "    fig.add_trace(go.Scatter(x=years, y=data[metric],\n",
    "                        mode='lines+markers',\n",
    "                        name=name))\n",
    "fig.update_layout(showlegend=True, xaxis_title='Year', yaxis_title=f'{metric} (%)', margin=dict(l=0, r=0, t=0, b=0), legend=dict(\n",
    "    orientation=\"h\",\n",
    "    yanchor=\"bottom\",\n",
    "    y=1.02,\n",
    "    xanchor=\"right\",\n",
    "    x=1\n",
    "))\n",
    "\n",
    "fig.update_layout(\n",
    "    font=dict(\n",
    "        # family=\"Courier New, monospace\",\n",
    "        size=20,\n",
    "        # color=\"RebeccaPurple\"\n",
    "    )\n",
    ")\n",
    "\n",
    "fig.show()\n",
    "fig.write_image(f'Results/ngc_smape_progress_{mode}.png', width=1450, height=500)"
   ]
  },
  {
   "cell_type": "code",
   "execution_count": null,
   "id": "63b26b15",
   "metadata": {},
   "outputs": [],
   "source": [
    "fig = go.Figure()\n",
    "\n",
    "mode = 'High'\n",
    "metric = 'SMAPE'\n",
    "keys_dict = {\n",
    "    'Low': ['SMCA', 'QDMDC', 'PCPDMC (Low)', 'MCPDMC (Low,WAVG)', 'MCPDMC (Low,SWITCH)', 'FCN-S-SMCA', 'FCN-M-QDMDC', 'FCN-M-PCPDMC (Low)'],\n",
    "    'Medium': ['SMCA', 'QDMDC', 'PCPDMC (Medium)', 'MCPDMC (Medium,WAVG)', 'MCPDMC (Medium,SWITCH)', 'FCN-S-SMCA', 'FCN-M-QDMDC', 'FCN-L-PCPDMC (Medium)'],\n",
    "    'High': ['SMCA', 'QDMDC', 'PCPDMC (High)', 'MCPDMC (High,WAVG)', 'MCPDMC (High,SWITCH)', 'FCN-S-SMCA', 'FCN-M-QDMDC', 'FCN-M-PCPDMC (High)'],\n",
    "}\n",
    "# keys = [x for x in yearly_metrics_gas.keys() if mode in x or 'SMCA' in x or 'QDMDC' in x]\n",
    "keys = keys_dict[mode]\n",
    "years = yearly_metrics_gas['SMCA'].index\n",
    "\n",
    "rename_dict = {\n",
    "    'SMCA': 'HT-SMCA',\n",
    "    'QDMDC': 'HT-QDMDC',\n",
    "    'PCPDMC (Low)': 'HT-PCPDMC',\n",
    "    'MCPDMC (Low,WAVG)': 'HT-MCPDMC-WA',\n",
    "    'MCPDMC (Low,SWITCH)': 'HT-MCPDMC-SW',\n",
    "    'PCPDMC (Medium)': 'HT-PCPDMC',\n",
    "    'MCPDMC (Medium,WAVG)': 'HT-MCPDMC-WA',\n",
    "    'MCPDMC (Medium,SWITCH)': 'HT-MCPDMC-SW',\n",
    "    'PCPDMC (High)': 'HT-PCPDMC',\n",
    "    'MCPDMC (High,WAVG)': 'HT-MCPDMC-WA',\n",
    "    'MCPDMC (High,SWITCH)': 'HT-MCPDMC-SW',\n",
    "    'FCN-S-SMCA': 'FCN-SMCA (S)',\n",
    "    'FCN-M-QDMDC': 'FCN-QDMDC (M)',\n",
    "    'FCN-M-PCPDMC (Low)': 'FCN-PCPDMC (M)',\n",
    "    'FCN-L-PCPDMC (Medium)': 'FCN-PCPDMC (L)',\n",
    "    'FCN-M-PCPDMC (High)': 'FCN-PCPDMC (M)',\n",
    "}\n",
    "\n",
    "for k in keys:\n",
    "    data = yearly_metrics_el[k]\n",
    "    # name = k.replace(f'({mode},', '').replace(f'({mode})', '').replace(f' WAVG)', '-WA').replace(f' SWITCH)', '-SW')\n",
    "    name = rename_dict[k]\n",
    "    fig.add_trace(go.Scatter(x=years, y=data[metric],\n",
    "                        mode='lines+markers',\n",
    "                        name=name))\n",
    "fig.update_layout(showlegend=True, xaxis_title='Year', yaxis_title=f'{metric} (%)', margin=dict(l=0, r=0, t=0, b=0), legend=dict(\n",
    "    orientation=\"h\",\n",
    "    yanchor=\"bottom\",\n",
    "    y=1.02,\n",
    "    xanchor=\"right\",\n",
    "    x=1\n",
    "))\n",
    "\n",
    "fig.update_layout(\n",
    "    font=dict(\n",
    "        # family=\"Courier New, monospace\",\n",
    "        size=20,\n",
    "        # color=\"RebeccaPurple\"\n",
    "    )\n",
    ")\n",
    "\n",
    "fig.show()\n",
    "fig.write_image(f'Results/el_smape_progress_{mode}.png', width=1450, height=500)"
   ]
  },
  {
   "cell_type": "code",
   "execution_count": null,
   "id": "d6e545ce-9916-4cb0-8abd-37f52fe19b5c",
   "metadata": {
    "tags": []
   },
   "outputs": [],
   "source": [
    "y_true = results_gas['PCPDMC (Low)'].loc[results_gas['PCPDMC (Low)'].index >= '2020-01-01 00:00:00'].y_true\n",
    "y_pred_PCPDMC = results_gas['PCPDMC (Low)'].loc[results_gas['PCPDMC (Low)'].index >= '2020-01-01 00:00:00'].y_pred\n",
    "y_pred_MCPDMC_WA = results_gas['MCPDMC (High,WAVG)'].loc[results_gas['MCPDMC (High,WAVG)'].index >= '2020-01-01 00:00:00'].y_pred\n",
    "y_pred_MCPDMC_SW = results_gas['MCPDMC (High,SWITCH)'].loc[results_gas['MCPDMC (High,SWITCH)'].index >= '2020-01-01 00:00:00'].y_pred\n",
    "y_pred_MCPDMC_SW = results_gas['MCPDMC (High,SWITCH)'].loc[results_gas['MCPDMC (High,SWITCH)'].index >= '2020-01-01 00:00:00'].y_pred\n",
    "y_pred_FCN_M_SMCA = results_gas['FCN-M-SMCA'].loc[results_gas['FCN-M-SMCA'].index >= '2020-01-01 00:00:00'].y_pred\n",
    "y_pred_LSTM_L_QDMDC = results_gas['LSTM-L-QDMDC'].loc[results_gas['LSTM-L-QDMDC'].index >= '2020-01-01 00:00:00'].y_pred\n",
    "\n",
    "# LSTM-S-PCPDMC (Medium), LSTM-QDMDC (L)\n",
    "\n",
    "\n",
    "y_pred_FCN_M_SMCA"
   ]
  },
  {
   "cell_type": "code",
   "execution_count": null,
   "id": "b751955c-6a81-4b02-9f66-b5d32e1df5c4",
   "metadata": {
    "tags": []
   },
   "outputs": [],
   "source": [
    "bkps_low = pd.read_csv('Results/BKPS_LOW.csv')\n",
    "bkps_low = bkps_low.iloc[:4]\n",
    "bkps_low.DateTime = bkps_low.DateTime.apply(lambda x: x.replace('2013', '2020'))\n",
    "bkps_low"
   ]
  },
  {
   "cell_type": "code",
   "execution_count": null,
   "id": "47886ed3-ed7e-4c94-b038-40db263f8e54",
   "metadata": {
    "tags": []
   },
   "outputs": [],
   "source": [
    "bkps_high = pd.read_csv('Results/BKPS_HIGH.csv')\n",
    "bkps_high = bkps_high.iloc[:13]\n",
    "bkps_high.DateTime = bkps_high.DateTime.apply(lambda x: x.replace('2013', '2020'))\n",
    "bkps_high"
   ]
  },
  {
   "cell_type": "code",
   "execution_count": null,
   "id": "ab895e5f",
   "metadata": {},
   "outputs": [],
   "source": [
    "fig = go.Figure()\n",
    "\n",
    "plot_data_kw = {'PCPDMC (Low)': y_pred_PCPDMC, 'MCPDMC-WA (High)': y_pred_MCPDMC_WA,'MCPDMC-SW (High)':y_pred_MCPDMC_SW , 'FCN-SMCA (M)': y_pred_FCN_M_SMCA, 'Ground Truth':  y_true}\n",
    "keys = plot_data_kw.keys()\n",
    "for k, v in plot_data_kw.items():\n",
    "    data = v\n",
    "    fig.add_trace(go.Scatter(x=data.index, y=data.values,\n",
    "                        mode='lines',\n",
    "                        name=k))\n",
    "\n",
    "for x in bkps_low.DateTime:\n",
    "    fig.add_vline(x=x, line_width=3, line_dash=\"dash\", line_color=\"red\")\n",
    "    \n",
    "for x in bkps_high.DateTime:\n",
    "    fig.add_vline(x=x, line_width=3, line_dash=\"dot\", line_color=\"black\", opacity=0.5)\n",
    "    \n",
    "# r'$\\text{Gas Consumption } (m^3/h)$'\n",
    "fig.update_layout(showlegend=True, xaxis_title='Datetime', yaxis_title='Gas Consumption', margin=dict(l=0, r=0, t=0, b=0),\n",
    "    font=dict(\n",
    "        # family=\"Courier New, monospace\",\n",
    "        size=20,\n",
    "        # color=\"RebeccaPurple\"\n",
    "    ),\n",
    "    legend=dict(\n",
    "    orientation=\"h\",\n",
    "    yanchor=\"bottom\",\n",
    "    y=1.02,\n",
    "    xanchor=\"right\",\n",
    "    x=1,\n",
    "))\n",
    "fig.show()\n",
    "fig.write_image(f'Results/ngc_prediction_2020_v2.png', width=1450, height=500)"
   ]
  },
  {
   "cell_type": "code",
   "execution_count": null,
   "id": "7f6f33aa",
   "metadata": {},
   "outputs": [],
   "source": [
    "fig = go.Figure()\n",
    "\n",
    "\n",
    "plot_data_kw = {'HT-PCPDMC (Low)': y_pred_PCPDMC, 'FCN-SMCA (M)': y_pred_FCN_M_SMCA,'LSTM-QDMDC (L)': y_pred_LSTM_L_QDMDC , 'Ground Truth':  y_true}\n",
    "keys = plot_data_kw.keys()\n",
    "for k, v in plot_data_kw.items():\n",
    "    from_dt, to_dt = '2020-03-29 00:00:00', '2020-04-18 00:00:00'\n",
    "    data = v.loc[(v.index >= from_dt) & (v.index <= to_dt)]\n",
    "    fig.add_trace(go.Scatter(x=data.index, y=data.values,\n",
    "                        mode='lines',\n",
    "                        name=k))\n",
    "\n",
    "for x in bkps_low.DateTime:\n",
    "    if x >= from_dt and x <= to_dt:\n",
    "        fig.add_vline(x=x, line_width=3, line_dash=\"dash\", line_color=\"red\")\n",
    "    \n",
    "for x in bkps_high.DateTime:\n",
    "    if x >= from_dt and x <= to_dt:\n",
    "        fig.add_vline(x=x, line_width=3, line_dash=\"dot\", line_color=\"black\", opacity=0.5)\n",
    "    \n",
    "# r'$\\text{Gas Consumption } (m^3/h)$'\n",
    "fig.update_layout(showlegend=True, xaxis_title='Datetime', yaxis_title='Gas Consumption', margin=dict(l=0, r=0, t=0, b=0),\n",
    "    font=dict(\n",
    "        # family=\"Courier New, monospace\",\n",
    "        size=20,\n",
    "        # color=\"RebeccaPurple\"\n",
    "    ), \n",
    "    legend=dict(\n",
    "    orientation=\"h\",\n",
    "    yanchor=\"bottom\",\n",
    "    y=1.02,\n",
    "    xanchor=\"right\",\n",
    "    x=1\n",
    "))\n",
    "fig.show()\n",
    "fig.write_image(f'Results/ngc_pred_fail_2020_v2.png', width=1450, height=500)"
   ]
  },
  {
   "cell_type": "code",
   "execution_count": null,
   "id": "abfdb7a2-4444-4841-8b84-8866f2b4e982",
   "metadata": {
    "tags": []
   },
   "outputs": [],
   "source": [
    "fig = go.Figure()\n",
    "\n",
    "plot_data_kw = {'HT-PCPDMC (Low)': y_pred_PCPDMC, 'HT-MCPDMC-WA (High)': y_pred_MCPDMC_WA,'MCPDMC-SW (High)':y_pred_MCPDMC_SW , 'FCN-SMCA (M)': y_pred_FCN_M_SMCA, 'Ground Truth':  y_true}\n",
    "keys = plot_data_kw.keys()\n",
    "for k, v in plot_data_kw.items():\n",
    "    data = v.loc[(v.index >= '2020-03-26 00:00:00') & (v.index <= '2020-04-20 00:00:00')]\n",
    "    fig.add_trace(go.Scatter(x=data.index, y=data.values,\n",
    "                        mode='lines',\n",
    "                        name=k))\n",
    "\n",
    "for x in bkps_low.DateTime:\n",
    "    if x >= '2020-03-26 00:00:00' and x <= '2020-04-20 00:00:00':\n",
    "        fig.add_vline(x=x, line_width=3, line_dash=\"dash\", line_color=\"red\")\n",
    "    \n",
    "for x in bkps_high.DateTime:\n",
    "    if x >= '2020-03-26 00:00:00' and x <= '2020-04-20 00:00:00':\n",
    "        fig.add_vline(x=x, line_width=3, line_dash=\"dot\", line_color=\"black\", opacity=0.5)\n",
    "    \n",
    "# r'$\\text{Gas Consumption } (m^3/h)$'\n",
    "fig.update_layout(showlegend=True, xaxis_title='Datetime', yaxis_title='Gas Consumption', margin=dict(l=0, r=0, t=0, b=0),\n",
    "    font=dict(\n",
    "        # family=\"Courier New, monospace\",\n",
    "        size=20,\n",
    "        # color=\"RebeccaPurple\"\n",
    "    ), \n",
    "    legend=dict(\n",
    "    orientation=\"h\",\n",
    "    yanchor=\"bottom\",\n",
    "    y=1.02,\n",
    "    xanchor=\"right\",\n",
    "    x=1\n",
    "))\n",
    "fig.show()\n",
    "fig.write_image(f'Results/ngc_pred_example_2020_v2.png', width=1450, height=500)"
   ]
  },
  {
   "cell_type": "code",
   "execution_count": null,
   "id": "a89dd6bb-abae-408e-bcbe-a9f7efad82a3",
   "metadata": {
    "tags": []
   },
   "outputs": [],
   "source": [
    "y_true = results_gas['PCPDMC (Low)'].loc[results_gas['PCPDMC (Low)'].index >= '2020-01-01 00:00:00'].y_true\n",
    "\n",
    "y_pred = results_gas['PCPDMC (Low)'].loc[results_gas['PCPDMC (Low)'].index >= '2020-01-01 00:00:00'].y_pred\n",
    "smape_PCPDMC = np.abs((y_pred - y_true) / ((np.abs(y_true) + np.abs(y_pred))/2.0)) * 100\n",
    "\n",
    "y_pred = results_gas['MCPDMC (High,WAVG)'].loc[results_gas['MCPDMC (High,WAVG)'].index >= '2020-01-01 00:00:00'].y_pred\n",
    "smape_MCPDMC_WA = np.abs((y_pred - y_true) / ((np.abs(y_true) + np.abs(y_pred))/2.0)) * 100\n",
    "\n",
    "y_pred = results_gas['MCPDMC (High,SWITCH)'].loc[results_gas['MCPDMC (High,SWITCH)'].index >= '2020-01-01 00:00:00'].y_pred\n",
    "smape_MCPDMC_SW = np.abs((y_pred - y_true) / ((np.abs(y_true) + np.abs(y_pred))/2.0)) * 100\n",
    "\n",
    "y_pred = results_gas['FCN-M-SMCA'].loc[results_gas['FCN-M-SMCA'].index >= '2020-01-01 00:00:00'].y_pred\n",
    "smape_FCN_M_SMCA = np.abs((y_pred - y_true) / ((np.abs(y_true) + np.abs(y_pred))/2.0)) * 100\n",
    "\n",
    "smape_FCN_M_SMCA"
   ]
  },
  {
   "cell_type": "code",
   "execution_count": null,
   "id": "6ad99b25-087d-4031-85e5-baf8e34f202a",
   "metadata": {
    "tags": []
   },
   "outputs": [],
   "source": [
    "df_sape = pd.DataFrame(index=y_true.index)\n",
    "df_sape['PCPDMC (Low)'] = smape_PCPDMC\n",
    "df_sape['MCPDMC-WA (High)'] = smape_MCPDMC_WA\n",
    "df_sape['MCPDMC-SW (High)'] = smape_MCPDMC_SW\n",
    "df_sape['FCN-SMCA (M)'] = smape_FCN_M_SMCA\n",
    "df_sape['Month'] = pd.DatetimeIndex(df_sape.index).month\n",
    "df_sape"
   ]
  },
  {
   "cell_type": "code",
   "execution_count": null,
   "id": "43fe0335-c32b-4758-bff2-c223b8ccf19b",
   "metadata": {
    "tags": []
   },
   "outputs": [],
   "source": [
    "fig = go.Figure()\n",
    "\n",
    "plot_data_kw = {'HT-PCPDMC (Low)': smape_PCPDMC, 'HT-MCPDMC-WA (High)': smape_MCPDMC_WA, 'HT-MCPDMC-SW (High)':smape_MCPDMC_SW, 'FCN-SMCA (M)': smape_FCN_M_SMCA}\n",
    "keys = plot_data_kw.keys()\n",
    "for k, v in plot_data_kw.items():\n",
    "    data = v\n",
    "    fig.add_trace(go.Scatter(x=data.index, y=data.values,\n",
    "                        mode='lines',\n",
    "                        name=k))\n",
    "\n",
    "for x in bkps_low.DateTime:\n",
    "    fig.add_vline(x=x, line_width=3, line_dash=\"dash\", line_color=\"red\")\n",
    "    \n",
    "for x in bkps_high.DateTime:\n",
    "    fig.add_vline(x=x, line_width=3, line_dash=\"dot\", line_color=\"black\", opacity=0.5)\n",
    "    \n",
    "fig.update_layout(showlegend=True, xaxis_title='Datetime', yaxis_title='SAPE (%)', margin=dict(l=0, r=0, t=0, b=0), \n",
    "    font=dict(\n",
    "        # family=\"Courier New, monospace\",\n",
    "        size=20,\n",
    "        # color=\"RebeccaPurple\"\n",
    "    ), \n",
    "    legend=dict(\n",
    "    orientation=\"h\",\n",
    "    yanchor=\"bottom\",\n",
    "    y=1.02,\n",
    "    xanchor=\"right\",\n",
    "    x=1\n",
    "))\n",
    "fig.show()\n",
    "fig.write_image(f'Results/ngc_sape_2020_v2.png', width=1450, height=500)"
   ]
  },
  {
   "cell_type": "code",
   "execution_count": null,
   "id": "25fe9ba9-7164-4a2e-9f42-bbcbb3d70a56",
   "metadata": {
    "tags": []
   },
   "outputs": [],
   "source": [
    "df_sape['Month']"
   ]
  },
  {
   "cell_type": "code",
   "execution_count": null,
   "id": "149da11a-c1c6-40a0-8b63-406521dfb0a7",
   "metadata": {
    "tags": []
   },
   "outputs": [],
   "source": [
    "df_sape_s = df_sape.iloc[:, :4].stack().reset_index(name='SAPE').rename({'level_1': 'Approach'}, axis=1)\n",
    "df_sape_s['Month'] = pd.DatetimeIndex(df_sape_s['level_0']).month\n",
    "df_sape_s.Approach = df_sape_s.Approach.replace({'PCPDMC (Low)': 'HT-PCPDMC (Low)', 'MCPDMC-WA (High)': 'HT-MCPDMC-WA (High)', 'MCPDMC-SW (High)': 'HT-MCPDMC-SW (High)\t'})\n",
    "df_sape_s"
   ]
  },
  {
   "cell_type": "code",
   "execution_count": null,
   "id": "f2f10d93-fd4e-45e8-ab80-e19cc32acdb8",
   "metadata": {
    "tags": []
   },
   "outputs": [],
   "source": [
    "np.arange(1, 13)"
   ]
  },
  {
   "cell_type": "code",
   "execution_count": null,
   "id": "32654d7e-e75d-411c-95ed-2063fd31678f",
   "metadata": {
    "tags": []
   },
   "outputs": [],
   "source": [
    "[calendar.month_name[x] for x in np.arange(1, 13)]"
   ]
  },
  {
   "cell_type": "code",
   "execution_count": null,
   "id": "10006f43-a45f-417d-8c6a-cf69eb67fcaf",
   "metadata": {},
   "outputs": [],
   "source": [
    "fig = px.box(df_sape_s, x='Month', y='SAPE', color='Approach')\n",
    "fig.update_layout(showlegend=True, xaxis_title='Month', yaxis_title='SAPE (%)', margin=dict(l=0, r=0, t=0, b=0), legend=dict(\n",
    "    orientation=\"h\",\n",
    "    yanchor=\"bottom\",\n",
    "    y=1.02,\n",
    "    xanchor=\"right\",\n",
    "    x=1,\n",
    "),\n",
    "font=dict(\n",
    "        # family=\"Courier New, monospace\",\n",
    "        size=20,\n",
    "        # color=\"RebeccaPurple\"\n",
    "    ),                 \n",
    "xaxis = dict(\n",
    "tickmode = 'array',\n",
    "tickvals = np.arange(1, 13),\n",
    "ticktext = [calendar.month_name[x] for x in np.arange(1, 13)]\n",
    "))\n",
    "fig.show()\n",
    "fig.write_image(f'Results/ngc_sape_boxplot_2020_v2.png', width=1450, height=500)"
   ]
  },
  {
   "cell_type": "code",
   "execution_count": null,
   "id": "b30c6233-648a-43fa-9ec0-29fc31804d96",
   "metadata": {
    "tags": []
   },
   "outputs": [],
   "source": [
    "df_sape_agg = df_sape.groupby('Month').median()\n",
    "df_sape_agg.index = [calendar.month_name[x] for x in df_sape_agg.index]\n",
    "df_sape_agg"
   ]
  },
  {
   "cell_type": "markdown",
   "id": "d0337597",
   "metadata": {},
   "source": [
    "## Electricity"
   ]
  },
  {
   "cell_type": "code",
   "execution_count": null,
   "id": "b51dcf4a",
   "metadata": {},
   "outputs": [],
   "source": [
    "y_true = results_el['PCPDMC (Low)'].loc[results_el['PCPDMC (Low)'].index >= '2020-01-01 00:00:00'].y_true\n",
    "y_pred_PCPDMC = results_el['PCPDMC (Low)'].loc[results_el['PCPDMC (Low)'].index >= '2020-01-01 00:00:00'].y_pred\n",
    "y_pred_MCPDMC_WA = results_el['MCPDMC (High,WAVG)'].loc[results_el['MCPDMC (High,WAVG)'].index >= '2020-01-01 00:00:00'].y_pred\n",
    "y_pred_MCPDMC_SW = results_el['MCPDMC (High,SWITCH)'].loc[results_el['MCPDMC (High,SWITCH)'].index >= '2020-01-01 00:00:00'].y_pred\n",
    "y_pred_MCPDMC_SW = results_el['MCPDMC (High,SWITCH)'].loc[results_el['MCPDMC (High,SWITCH)'].index >= '2020-01-01 00:00:00'].y_pred\n",
    "y_pred_FCN_S_SMCA = results_el['FCN-S-SMCA'].loc[results_el['FCN-S-SMCA'].index >= '2020-01-01 00:00:00'].y_pred\n",
    "\n",
    "y_pred_FCN_S_SMCA"
   ]
  },
  {
   "cell_type": "code",
   "execution_count": null,
   "id": "d88fd2ad",
   "metadata": {},
   "outputs": [],
   "source": [
    "bkps_low = pd.read_csv('Results/EL_BKPS_LOW.csv')\n",
    "bkps_low = bkps_low.iloc[1:6]\n",
    "bkps_low.Datetime = bkps_low.Datetime.apply(lambda x: x.replace('2013', '2020'))\n",
    "bkps_low"
   ]
  },
  {
   "cell_type": "code",
   "execution_count": null,
   "id": "a5a515a8",
   "metadata": {},
   "outputs": [],
   "source": [
    "bkps_high = pd.read_csv('Results/EL_BKPS_HIGH.csv')\n",
    "bkps_high = bkps_high.iloc[1:13]\n",
    "bkps_high.Datetime = bkps_high.Datetime.apply(lambda x: x.replace('2013', '2020'))\n",
    "bkps_high"
   ]
  },
  {
   "cell_type": "code",
   "execution_count": null,
   "id": "e443d18c",
   "metadata": {},
   "outputs": [],
   "source": [
    "fig = go.Figure()\n",
    "\n",
    "plot_data_kw = {'HT-PCPDMC (Low)': y_pred_PCPDMC, 'HT-MCPDMC-WA (High)': y_pred_MCPDMC_WA,'HT-MCPDMC-SW (High)':y_pred_MCPDMC_SW, 'FCN-SMCA (S)': y_pred_FCN_S_SMCA, 'Ground Truth':  y_true}\n",
    "keys = plot_data_kw.keys()\n",
    "for k, v in plot_data_kw.items():\n",
    "    data = v\n",
    "    fig.add_trace(go.Scatter(x=data.index, y=data.values,\n",
    "                        mode='lines',\n",
    "                        name=k))\n",
    "\n",
    "for x in bkps_low.Datetime:\n",
    "    fig.add_vline(x=x, line_width=3, line_dash=\"dash\", line_color=\"red\")\n",
    "    \n",
    "for x in bkps_high.Datetime:\n",
    "    fig.add_vline(x=x, line_width=3, line_dash=\"dot\", line_color=\"black\", opacity=0.5)\n",
    "    \n",
    "# r'$\\text{Gas Consumption } (m^3/h)$'\n",
    "fig.update_layout(showlegend=True, xaxis_title='Datetime', yaxis_title='Electricity load', margin=dict(l=0, r=0, t=0, b=0),\n",
    "    font=dict(\n",
    "        # family=\"Courier New, monospace\",\n",
    "        size=20,\n",
    "        # color=\"RebeccaPurple\"\n",
    "    ),\n",
    "    legend=dict(\n",
    "    orientation=\"h\",\n",
    "    yanchor=\"bottom\",\n",
    "    y=1.02,\n",
    "    xanchor=\"right\",\n",
    "    x=1,\n",
    "))\n",
    "fig.show()\n",
    "fig.write_image(f'Results/el_prediction_2020_v2.png', width=1450, height=500)"
   ]
  },
  {
   "cell_type": "code",
   "execution_count": null,
   "id": "7ab70a2a",
   "metadata": {},
   "outputs": [],
   "source": [
    "fig = go.Figure()\n",
    "\n",
    "plot_data_kw = {'HT-PCPDMC (Low)': y_pred_PCPDMC, 'HT-MCPDMC-WA (High)': y_pred_MCPDMC_WA,'HT-MCPDMC-SW (High)':y_pred_MCPDMC_SW , 'FCN-SMCA (S)': y_pred_FCN_S_SMCA, 'Ground Truth':  y_true}\n",
    "keys = plot_data_kw.keys()\n",
    "for k, v in plot_data_kw.items():\n",
    "    # dt_from, dt_to = '2020-03-26 00:00:00', '2020-04-20 00:00:00'\n",
    "    dt_from, dt_to = '2020-01-08 00:00:00', '2020-02-04 00:00:00'\n",
    "    data = v.loc[(v.index >= dt_from) & (v.index <= dt_to)]\n",
    "    fig.add_trace(go.Scatter(x=data.index, y=data.values,\n",
    "                        mode='lines',\n",
    "                        name=k))\n",
    "\n",
    "for x in bkps_low.Datetime:\n",
    "    if x >= dt_from and x <= dt_to:\n",
    "        fig.add_vline(x=x, line_width=3, line_dash=\"dash\", line_color=\"red\")\n",
    "    \n",
    "for x in bkps_high.Datetime:\n",
    "    if x >= dt_from and x <= dt_to:\n",
    "        fig.add_vline(x=x, line_width=3, line_dash=\"dot\", line_color=\"black\", opacity=0.5)\n",
    "    \n",
    "# r'$\\text{Gas Consumption } (m^3/h)$'\n",
    "fig.update_layout(showlegend=True, xaxis_title='Datetime', yaxis_title='Gas Consumption', margin=dict(l=0, r=0, t=0, b=0),\n",
    "    font=dict(\n",
    "        # family=\"Courier New, monospace\",\n",
    "        size=20,\n",
    "        # color=\"RebeccaPurple\"\n",
    "    ), \n",
    "    legend=dict(\n",
    "    orientation=\"h\",\n",
    "    yanchor=\"bottom\",\n",
    "    y=1.02,\n",
    "    xanchor=\"right\",\n",
    "    x=1\n",
    "))\n",
    "fig.show()\n",
    "fig.write_image(f'Results/el_pred_example_2020_v2.png', width=1450, height=500)"
   ]
  },
  {
   "cell_type": "code",
   "execution_count": null,
   "id": "ad7b47c2",
   "metadata": {},
   "outputs": [],
   "source": [
    "y_true = results_el['PCPDMC (Low)'].loc[results_el['PCPDMC (Low)'].index >= '2020-01-01 00:00:00'].y_true\n",
    "\n",
    "y_pred = results_el['PCPDMC (Low)'].loc[results_el['PCPDMC (Low)'].index >= '2020-01-01 00:00:00'].y_pred\n",
    "smape_PCPDMC = np.abs((y_pred - y_true) / ((np.abs(y_true) + np.abs(y_pred))/2.0)) * 100\n",
    "\n",
    "y_pred = results_el['MCPDMC (High,WAVG)'].loc[results_el['MCPDMC (High,WAVG)'].index >= '2020-01-01 00:00:00'].y_pred\n",
    "smape_MCPDMC_WA = np.abs((y_pred - y_true) / ((np.abs(y_true) + np.abs(y_pred))/2.0)) * 100\n",
    "\n",
    "y_pred = results_el['MCPDMC (High,SWITCH)'].loc[results_el['MCPDMC (High,SWITCH)'].index >= '2020-01-01 00:00:00'].y_pred\n",
    "smape_MCPDMC_SW = np.abs((y_pred - y_true) / ((np.abs(y_true) + np.abs(y_pred))/2.0)) * 100\n",
    "\n",
    "y_pred = results_el['FCN-S-SMCA'].loc[results_el['FCN-S-SMCA'].index >= '2020-01-01 00:00:00'].y_pred\n",
    "smape_FCN_S_SMCA = np.abs((y_pred - y_true) / ((np.abs(y_true) + np.abs(y_pred))/2.0)) * 100\n",
    "\n",
    "smape_FCN_S_SMCA"
   ]
  },
  {
   "cell_type": "code",
   "execution_count": null,
   "id": "535a43cd",
   "metadata": {},
   "outputs": [],
   "source": [
    "df_sape = pd.DataFrame(index=y_true.index)\n",
    "df_sape['PCPDMC (Low)'] = smape_PCPDMC\n",
    "df_sape['MCPDMC-WA (High)'] = smape_MCPDMC_WA\n",
    "df_sape['MCPDMC-SW (High)'] = smape_MCPDMC_SW\n",
    "df_sape['FCN-SMCA (S)'] = smape_FCN_S_SMCA\n",
    "df_sape['Month'] = pd.DatetimeIndex(df_sape.index).month\n",
    "df_sape"
   ]
  },
  {
   "cell_type": "code",
   "execution_count": null,
   "id": "a93e208b",
   "metadata": {},
   "outputs": [],
   "source": [
    "fig = go.Figure()\n",
    "\n",
    "plot_data_kw = {'HT-PCPDMC (Low)': smape_PCPDMC, 'HT-MCPDMC-WA (High)': smape_MCPDMC_WA, 'HT-MCPDMC-SW (High)':smape_MCPDMC_SW, 'FCN-SMCA (S)': smape_FCN_S_SMCA}\n",
    "keys = plot_data_kw.keys()\n",
    "for k, v in plot_data_kw.items():\n",
    "    data = v\n",
    "    fig.add_trace(go.Scatter(x=data.index, y=data.values,\n",
    "                        mode='lines',\n",
    "                        name=k))\n",
    "\n",
    "for x in bkps_low.Datetime:\n",
    "    fig.add_vline(x=x, line_width=3, line_dash=\"dash\", line_color=\"red\")\n",
    "    \n",
    "for x in bkps_high.Datetime:\n",
    "    fig.add_vline(x=x, line_width=3, line_dash=\"dot\", line_color=\"black\", opacity=0.5)\n",
    "    \n",
    "fig.update_layout(showlegend=True, xaxis_title='Datetime', yaxis_title='SAPE (%)', margin=dict(l=0, r=0, t=0, b=0), \n",
    "    font=dict(\n",
    "        # family=\"Courier New, monospace\",\n",
    "        size=20,\n",
    "        # color=\"RebeccaPurple\"\n",
    "    ), \n",
    "    legend=dict(\n",
    "    orientation=\"h\",\n",
    "    yanchor=\"bottom\",\n",
    "    y=1.02,\n",
    "    xanchor=\"right\",\n",
    "    x=1\n",
    "))\n",
    "fig.show()\n",
    "fig.write_image(f'Results/el_sape_2020_v2.png', width=1450, height=500)"
   ]
  },
  {
   "cell_type": "code",
   "execution_count": null,
   "id": "cda2c6b0",
   "metadata": {},
   "outputs": [],
   "source": [
    "df_sape['Month']"
   ]
  },
  {
   "cell_type": "code",
   "execution_count": null,
   "metadata": {},
   "outputs": [],
   "source": [
    "df_sape_s = df_sape.iloc[:, :4].stack().reset_index(name='SAPE').rename({'level_1': 'Approach'}, axis=1)\n",
    "df_sape_s['Month'] = pd.DatetimeIndex(df_sape_s['level_0']).month\n",
    "df_sape_s.Approach = df_sape_s.Approach.replace({'PCPDMC (Low)': 'HT-PCPDMC (Low)', 'MCPDMC-WA (High)': 'HT-MCPDMC-WA (High)', 'MCPDMC-SW (High)': 'HT-MCPDMC-SW (High)\t'})\n",
    "df_sape_s"
   ]
  },
  {
   "cell_type": "code",
   "execution_count": null,
   "metadata": {},
   "outputs": [],
   "source": [
    "np.arange(1, 13)"
   ]
  },
  {
   "cell_type": "code",
   "execution_count": null,
   "metadata": {},
   "outputs": [],
   "source": [
    "[calendar.month_name[x] for x in np.arange(1, 13)]"
   ]
  },
  {
   "cell_type": "code",
   "execution_count": null,
   "metadata": {},
   "outputs": [],
   "source": [
    "fig = px.box(df_sape_s, x='Month', y='SAPE', color='Approach')\n",
    "fig.update_layout(showlegend=True, xaxis_title='Month', yaxis_title='SAPE (%)', margin=dict(l=0, r=0, t=0, b=0), legend=dict(\n",
    "    orientation=\"h\",\n",
    "    yanchor=\"bottom\",\n",
    "    y=1.02,\n",
    "    xanchor=\"right\",\n",
    "    x=1,\n",
    "),\n",
    "font=dict(\n",
    "        # family=\"Courier New, monospace\",\n",
    "        size=20,\n",
    "        # color=\"RebeccaPurple\"\n",
    "    ),                 \n",
    "xaxis = dict(\n",
    "tickmode = 'array',\n",
    "tickvals = np.arange(1, 13),\n",
    "ticktext = [calendar.month_name[x] for x in np.arange(1, 13)]\n",
    "))\n",
    "fig.show()\n",
    "fig.write_image(f'Results/el_sape_boxplot_2020_v2.png', width=1450, height=500)"
   ]
  },
  {
   "cell_type": "code",
   "execution_count": null,
   "metadata": {},
   "outputs": [],
   "source": [
    "df_sape_agg = df_sape.groupby('Month').median()\n",
    "df_sape_agg.index = [calendar.month_name[x] for x in df_sape_agg.index]\n",
    "df_sape_agg.apply(lambda x: round(x, 2))"
   ]
  }
 ],
 "metadata": {
  "kernelspec": {
   "display_name": "Python 3 (ipykernel)",
   "language": "python",
   "name": "python3"
  },
  "language_info": {
   "codemirror_mode": {
    "name": "ipython",
    "version": 3
   },
   "file_extension": ".py",
   "mimetype": "text/x-python",
   "name": "python",
   "nbconvert_exporter": "python",
   "pygments_lexer": "ipython3",
   "version": "3.11.0"
  }
 },
 "nbformat": 4,
 "nbformat_minor": 5
}
