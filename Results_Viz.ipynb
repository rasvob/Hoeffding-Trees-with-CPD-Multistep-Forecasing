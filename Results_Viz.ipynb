{
 "cells": [
  {
   "cell_type": "code",
   "execution_count": null,
   "id": "5d4ace25-d0e8-48da-b78b-8fea5bcbd6b4",
   "metadata": {
    "tags": []
   },
   "outputs": [],
   "source": [
    "import numpy as np\n",
    "import pandas as pd\n",
    "import matplotlib.pyplot as plt\n",
    "import seaborn as sns\n",
    "import plotly.express as px\n",
    "import plotly.graph_objects as go\n",
    "from plotly.subplots import make_subplots\n",
    "from plotly.offline import init_notebook_mode\n",
    "init_notebook_mode(connected=False)\n",
    "pd.set_option('display.max_colwidth', 100)"
   ]
  },
  {
   "cell_type": "code",
   "execution_count": null,
   "id": "2647c58e-dc21-4a05-8597-98e61070cf08",
   "metadata": {
    "tags": []
   },
   "outputs": [],
   "source": [
    "from sklearn.model_selection import KFold, train_test_split, StratifiedKFold\n",
    "from sklearn.ensemble import RandomForestRegressor, AdaBoostRegressor, ExtraTreesRegressor\n",
    "from sklearn.metrics import accuracy_score, mean_absolute_error, mean_squared_error\n",
    "from sklearn.linear_model import Ridge, Lasso, ElasticNet\n",
    "from sklearn.preprocessing import StandardScaler, MinMaxScaler, RobustScaler\n",
    "from evaluation_metrics import compute_metrics, compute_metrics_csv, mean_absolute_percentage_error, symetric_mean_absolute_percentage_error"
   ]
  },
  {
   "cell_type": "code",
   "execution_count": null,
   "id": "fb5c9d57-9461-493a-9c41-4c0ae41876fe",
   "metadata": {
    "tags": []
   },
   "outputs": [],
   "source": [
    "from statsmodels.tsa.stattools import acf, pacf, ccf, ccovf\n",
    "from statsmodels.tsa.seasonal import STL\n",
    "from statsmodels.graphics.tsaplots import plot_acf, plot_pacf \n",
    "from statsmodels.tsa.stattools import adfuller, kpss\n",
    "from scipy.stats import boxcox, yeojohnson\n",
    "from scipy.spatial.distance import cosine, euclidean\n",
    "import rstl"
   ]
  },
  {
   "cell_type": "code",
   "execution_count": null,
   "id": "bb9bdf73-675f-4c2b-bfdf-e68ee070a717",
   "metadata": {
    "tags": []
   },
   "outputs": [],
   "source": [
    "from scipy.stats import boxcox, yeojohnson"
   ]
  },
  {
   "cell_type": "code",
   "execution_count": null,
   "id": "7e46b6a6-9f85-4221-a255-ef0034546b37",
   "metadata": {
    "tags": []
   },
   "outputs": [],
   "source": [
    "from tqdm.notebook import trange, tqdm\n",
    "from datetime import datetime\n",
    "import itertools\n",
    "from numpy.polynomial import Polynomial as P"
   ]
  },
  {
   "cell_type": "code",
   "execution_count": null,
   "id": "da6ee5a0-7c30-4d23-9bab-2dd807601c74",
   "metadata": {
    "tags": []
   },
   "outputs": [],
   "source": [
    "# from lightgbm import LGBMRegressor"
   ]
  },
  {
   "cell_type": "code",
   "execution_count": null,
   "id": "67b5e08e-48e9-4f75-971d-0d1bc7d6f1f0",
   "metadata": {
    "tags": []
   },
   "outputs": [],
   "source": [
    "import pickle\n",
    "import calendar"
   ]
  },
  {
   "cell_type": "code",
   "execution_count": null,
   "id": "d67ca386-6955-47db-8edd-82ae41d7a60e",
   "metadata": {
    "tags": []
   },
   "outputs": [],
   "source": [
    "import ruptures as rpt\n",
    "# from dtaidistance import dtw"
   ]
  },
  {
   "cell_type": "code",
   "execution_count": null,
   "id": "81d79fe1-7076-4972-91a4-f5cecfb636b1",
   "metadata": {
    "tags": []
   },
   "outputs": [],
   "source": [
    "from river import tree"
   ]
  },
  {
   "cell_type": "code",
   "execution_count": null,
   "id": "4fc257c0-aaff-42da-ba92-e17121856767",
   "metadata": {
    "tags": []
   },
   "outputs": [],
   "source": [
    "def plot_pred_bkps(data, my_bkps, from_dt=None, title=None):\n",
    "    if from_dt:\n",
    "        data = data[data.index >= from_dt]\n",
    "    my_bkps = [x for x in my_bkps if x < len(data)]\n",
    "    \n",
    "    df_err = data.copy()\n",
    "    df_err.loc[:, 'AE'] = (df_err.y_true - df_err.y_pred).abs()\n",
    "    df_err.loc[:, 'SE'] = (df_err.y_true - df_err.y_pred) ** 2\n",
    "    df_err.loc[:, 'SAPE'] = ((df_err.y_pred - df_err.y_true).abs() / ((df_err.y_true.abs() + df_err.y_pred.abs())/2)) * 100\n",
    "    \n",
    "    fig = go.Figure()\n",
    "    fig.add_trace(go.Scatter(x=data.index, y=data.y_true,\n",
    "                            mode='lines',\n",
    "                            line_color='#333C83', name='y_true'))\n",
    "    \n",
    "    fig.add_trace(go.Scatter(x=data.index, y=data.y_pred,\n",
    "                            mode='lines',\n",
    "                            line_color='red', name='y_pred'))\n",
    "    clr_selection = 'green'\n",
    "    color_switch = lambda x: 'blue' if x != 'blue' else 'green'\n",
    "    \n",
    "    for idx, cp in enumerate(my_bkps):\n",
    "        if cp >= len(data):\n",
    "            break\n",
    "\n",
    "        fig.add_vline(x=data.index[cp], line_width=3, line_dash=\"dash\", line_color=\"red\")\n",
    "\n",
    "        if idx < len(my_bkps) - 2:\n",
    "            clr_selection = color_switch(clr_selection)\n",
    "            fig.add_vrect(x0=data.index[cp], x1=data.index[my_bkps[idx+1]], line_width=0, fillcolor=clr_selection, opacity=0.1)\n",
    "    \n",
    "    fig.update_layout(title=title)\n",
    "    fig.show()\n",
    "    \n",
    "    for roll in [24, 24*7]:\n",
    "        fig = go.Figure()\n",
    "        fig.add_trace(go.Scatter(x=data.index, y=df_err['SAPE'].rolling(roll).mean(),\n",
    "                                mode='lines',\n",
    "                                line_color='#333C83', name=f'SAPE rolling({roll})'))\n",
    "\n",
    "        for idx, cp in enumerate(my_bkps):\n",
    "                if cp >= len(data):\n",
    "                    break\n",
    "\n",
    "                fig.add_vline(x=data.index[cp], line_width=3, line_dash=\"dash\", line_color=\"red\")\n",
    "\n",
    "        fig.update_layout(title=f'SAPE rolling({roll})')\n",
    "        fig.show()\n",
    "    \n",
    "    for x in reversed(['AE', 'SE', 'SAPE']):\n",
    "        fig = go.Figure()\n",
    "        fig.add_trace(go.Scatter(x=data.index, y=df_err[x],\n",
    "                                mode='lines',\n",
    "                                line_color='#333C83', name=x))\n",
    "\n",
    "        for idx, cp in enumerate(my_bkps):\n",
    "            if cp >= len(data):\n",
    "                break\n",
    "\n",
    "            fig.add_vline(x=data.index[cp], line_width=3, line_dash=\"dash\", line_color=\"red\")\n",
    "        fig.update_layout(title=x)\n",
    "        fig.show()"
   ]
  },
  {
   "cell_type": "code",
   "execution_count": null,
   "id": "f2b8ac87-faf5-4f31-96a3-b362a4bd00f3",
   "metadata": {
    "tags": []
   },
   "outputs": [],
   "source": [
    "# plot_pred_bkps(df_forecast_res, my_bkps, '2013-01-05 00:00:00')"
   ]
  },
  {
   "cell_type": "code",
   "execution_count": null,
   "id": "15e0f8eb-fb38-4223-8d00-8330e3c39727",
   "metadata": {
    "tags": []
   },
   "outputs": [],
   "source": [
    "# plot_pred_bkps(df_forecast_res, my_bkps, '2014-01-01 00:00:00')"
   ]
  },
  {
   "cell_type": "code",
   "execution_count": null,
   "id": "3e158b0b-b469-4182-bdc6-e763c9a9615b",
   "metadata": {
    "tags": []
   },
   "outputs": [],
   "source": [
    "# pd.set_option('display.precision', 5)\n",
    "# pd.set_option('display.float_format',  '{:.3g}'.format)"
   ]
  },
  {
   "cell_type": "code",
   "execution_count": null,
   "id": "df37bc97-4080-493e-b43b-1f646ffa25c4",
   "metadata": {
    "tags": []
   },
   "outputs": [],
   "source": [
    "results = {\n",
    "    'SMCA': 'Results/NGC_HT_Day2Day_Online_2021.csv',\n",
    "    'QDMDC': 'Results/NGC_HT_Day2Day_BySeason_2021.csv',\n",
    "    'PCPDMC (Low)': 'Results/NGC_HT_Day2Day_ByCP_LOW_2021.csv',\n",
    "    'PCPDMC (Medium)': 'Results/NGC_HT_Day2Day_ByCP_MED_2021.csv',\n",
    "    'PCPDMC (High)': 'Results/NGC_HT_Day2Day_ByCP_HIGH_2021.csv',\n",
    "    'MCPDMC (Low,WAVG)': 'Results/NGC_HT_Day2Day_ByCP_LOW_ERR_WAVG_2021.csv',\n",
    "    'MCPDMC (Medium,WAVG)': 'Results/NGC_HT_Day2Day_ByCP_MED_ERR_WAVG_2021.csv',\n",
    "    'MCPDMC (High,WAVG)': 'Results/NGC_HT_Day2Day_ByCP_HIGH_ERR_WAVG_2021.csv',\n",
    "    'MCPDMC (Low,SWITCH)': 'Results/NGC_HT_Day2Day_ByCP_LOW_ERR_Switch_2021.csv',\n",
    "    'MCPDMC (Medium,SWITCH)': 'Results/NGC_HT_Day2Day_ByCP_MED_ERR_Switch_2021.csv',\n",
    "    'MCPDMC (High,SWITCH)': 'Results/NGC_HT_Day2Day_ByCP_HIGH_ERR_Switch_2021.csv'\n",
    "}"
   ]
  },
  {
   "cell_type": "code",
   "execution_count": null,
   "id": "bed7f647-f309-40b0-b644-2f713ee88c22",
   "metadata": {
    "tags": []
   },
   "outputs": [],
   "source": [
    "results = {k: pd.read_csv(v, sep=',', index_col=0) for k,v in results.items()}"
   ]
  },
  {
   "cell_type": "code",
   "execution_count": null,
   "id": "2adccd30-78e5-4820-b584-d69d85654e54",
   "metadata": {
    "tags": []
   },
   "outputs": [],
   "source": [
    "global_metrics = {k: compute_metrics(v[v.index >= '2014-01-05 00:00:00'].dropna()).loc[:, ['MAE', 'MSE', 'SMAPE']] for k,v in results.items()}"
   ]
  },
  {
   "cell_type": "code",
   "execution_count": null,
   "id": "db361e92-fe95-4989-928b-4c1757261e2c",
   "metadata": {
    "tags": []
   },
   "outputs": [],
   "source": [
    "from decimal import Decimal\n",
    "pd.set_option('display.precision', 3)\n",
    "pd.set_option('display.float_format',  '{:.4g}'.format)\n",
    "# pd.set_option('display.float_format',  None)"
   ]
  },
  {
   "cell_type": "code",
   "execution_count": null,
   "id": "15d37709-8da1-4d32-a4d4-65026b81aa27",
   "metadata": {
    "tags": []
   },
   "outputs": [],
   "source": [
    "global_metrics['SMCA']"
   ]
  },
  {
   "cell_type": "code",
   "execution_count": null,
   "id": "4dd6cd6d-5f29-43ac-95d9-f08593130bf4",
   "metadata": {},
   "outputs": [],
   "source": [
    "list(global_metrics.keys())"
   ]
  },
  {
   "cell_type": "code",
   "execution_count": null,
   "id": "b20c46fc-53dd-4c9f-8ee5-617d748e6d74",
   "metadata": {},
   "outputs": [],
   "source": [
    "df_global = pd.DataFrame(columns=global_metrics['SMCA'].columns, index=list(global_metrics.keys()))\n",
    "for k,v in global_metrics.items():\n",
    "    df_global.loc[k, :] = v.values"
   ]
  },
  {
   "cell_type": "code",
   "execution_count": null,
   "id": "63455cb3-753c-40ba-8be8-531f0f6ebbe1",
   "metadata": {
    "tags": []
   },
   "outputs": [],
   "source": [
    "df_global"
   ]
  },
  {
   "cell_type": "code",
   "execution_count": null,
   "id": "3ba705d0-9561-479c-85a1-3db7375ce6db",
   "metadata": {
    "tags": []
   },
   "outputs": [],
   "source": [
    "global_metrics['SMCA'].MAE.apply(lambda x: f\"{Decimal(x):.3g}\")"
   ]
  },
  {
   "cell_type": "code",
   "execution_count": null,
   "id": "2afb17a3-4687-4761-97cd-1677b2253832",
   "metadata": {
    "tags": []
   },
   "outputs": [],
   "source": [
    "def year_metrics(df_forecast_res):\n",
    "    df_pred_all = pd.DataFrame(columns=['MAE', 'MSE', 'SMAPE'], index=[x for x in range(2014, 2021)])\n",
    "\n",
    "    for year in range(2014, 2021):\n",
    "        tmp = compute_metrics(df_forecast_res[(df_forecast_res.index >= f'{year}-01-01 00:00:00') & (df_forecast_res.index <= f'{year}-12-31 00:00:00')].dropna()).loc[:, ['MAE', 'MSE', 'SMAPE']].values\n",
    "        df_pred_all.loc[year, :] = tmp\n",
    "    return df_pred_all"
   ]
  },
  {
   "cell_type": "code",
   "execution_count": null,
   "id": "3f5edae1-1886-47f1-977a-d64178994fe3",
   "metadata": {
    "tags": []
   },
   "outputs": [],
   "source": [
    "yearly_metrics = {k: year_metrics(v) for k,v in results.items()}"
   ]
  },
  {
   "cell_type": "code",
   "execution_count": null,
   "id": "64f457d3-4999-49ad-812c-2b4bd45915f5",
   "metadata": {
    "tags": []
   },
   "outputs": [],
   "source": [
    "yearly_metrics['SMCA']"
   ]
  },
  {
   "cell_type": "code",
   "execution_count": null,
   "id": "c2ab014a-17d3-4265-9b8f-239f28f738d6",
   "metadata": {
    "tags": []
   },
   "outputs": [],
   "source": [
    "df_detail = pd.DataFrame(columns=global_metrics['SMCA'].columns)\n",
    "for k,v in yearly_metrics.items():\n",
    "    df_detail = pd.concat([df_detail, pd.DataFrame(index=[k], columns=global_metrics['SMCA'].columns)])\n",
    "    df_detail = pd.concat([df_detail, v])"
   ]
  },
  {
   "cell_type": "code",
   "execution_count": null,
   "id": "b2635333-b5e3-4cb5-b549-f52e6f3930af",
   "metadata": {
    "tags": []
   },
   "outputs": [],
   "source": [
    "skip = 0\n",
    "df_detail.iloc[8*skip:8*skip+8]"
   ]
  },
  {
   "cell_type": "code",
   "execution_count": null,
   "id": "3f601cd6-6720-4e48-b067-9c5ede272e31",
   "metadata": {
    "tags": []
   },
   "outputs": [],
   "source": [
    "skip = 1\n",
    "df_detail.iloc[8*skip:8*skip+8]"
   ]
  },
  {
   "cell_type": "code",
   "execution_count": null,
   "id": "a6f94203-0b95-4b47-9500-219edc4fcb64",
   "metadata": {
    "tags": []
   },
   "outputs": [],
   "source": [
    "skip = 2\n",
    "df_detail.iloc[8*skip:8*skip+8]"
   ]
  },
  {
   "cell_type": "code",
   "execution_count": null,
   "id": "615ac96a-91b6-4cf6-8844-de6bba60d0f1",
   "metadata": {
    "tags": []
   },
   "outputs": [],
   "source": [
    "skip = 3\n",
    "df_detail.iloc[8*skip:8*skip+8]"
   ]
  },
  {
   "cell_type": "code",
   "execution_count": null,
   "id": "f7ea7346-d84c-4612-95ca-6b8ef6ff3534",
   "metadata": {
    "tags": []
   },
   "outputs": [],
   "source": [
    "skip = 4\n",
    "df_detail.iloc[8*skip:8*skip+8]"
   ]
  },
  {
   "cell_type": "code",
   "execution_count": null,
   "id": "3ece226b-ac0b-4e8a-88a7-72e82d11b008",
   "metadata": {
    "tags": []
   },
   "outputs": [],
   "source": [
    "skip = 5\n",
    "df_detail.iloc[8*skip:8*skip+8]"
   ]
  },
  {
   "cell_type": "code",
   "execution_count": null,
   "id": "8bbda551-5a06-460c-8cf9-a9ee0ccb9817",
   "metadata": {
    "tags": []
   },
   "outputs": [],
   "source": [
    "skip = 6\n",
    "df_detail.iloc[8*skip:8*skip+8]"
   ]
  },
  {
   "cell_type": "code",
   "execution_count": null,
   "id": "07abe27c-2080-4b98-bbfd-c98b40123d3a",
   "metadata": {
    "tags": []
   },
   "outputs": [],
   "source": [
    "skip = 7\n",
    "df_detail.iloc[8*skip:8*skip+8]"
   ]
  },
  {
   "cell_type": "code",
   "execution_count": null,
   "id": "9b9fd60a-478b-48cc-be21-6b0d1edeac7a",
   "metadata": {
    "tags": []
   },
   "outputs": [],
   "source": [
    "skip = 8\n",
    "df_detail.iloc[8*skip:8*skip+8]"
   ]
  },
  {
   "cell_type": "code",
   "execution_count": null,
   "id": "d43e766f-b8b3-4336-b7c4-2c993cc96016",
   "metadata": {
    "tags": []
   },
   "outputs": [],
   "source": [
    "skip = 9\n",
    "df_detail.iloc[8*skip:8*skip+8]"
   ]
  },
  {
   "cell_type": "code",
   "execution_count": null,
   "id": "d3191c0e-b281-4c07-b54f-7b8a8ac9d010",
   "metadata": {
    "tags": []
   },
   "outputs": [],
   "source": [
    "skip = 10\n",
    "df_detail.iloc[8*skip:8*skip+8]"
   ]
  },
  {
   "cell_type": "code",
   "execution_count": null,
   "id": "cc2cee5c-ae78-4b65-8b85-d6d7e79271ec",
   "metadata": {},
   "outputs": [],
   "source": [
    "df_detail"
   ]
  },
  {
   "cell_type": "code",
   "execution_count": null,
   "id": "07f1d07f-285b-45a1-85a9-ef7fb5dc3dce",
   "metadata": {
    "tags": []
   },
   "outputs": [],
   "source": [
    "yearly_metrics.keys()"
   ]
  },
  {
   "cell_type": "code",
   "execution_count": null,
   "id": "ecbe0da6-e9ab-4bb2-9a89-abdea0bb0323",
   "metadata": {
    "tags": []
   },
   "outputs": [],
   "source": [
    "fig = go.Figure()\n",
    "\n",
    "mode = 'Low'\n",
    "metric = 'SMAPE'\n",
    "keys = [x for x in yearly_metrics.keys() if mode in x or 'SMCA' in x or 'QDMDC' in x]\n",
    "years = yearly_metrics['SMCA'].index\n",
    "\n",
    "for k in keys:\n",
    "    data = yearly_metrics[k]\n",
    "    name = k.replace(f'({mode},', '').replace(f'({mode})', '').replace(f' WAVG)', '-WA').replace(f' SWITCH)', '-SW')\n",
    "    fig.add_trace(go.Scatter(x=years, y=data[metric],\n",
    "                        mode='lines+markers',\n",
    "                        name=name))\n",
    "fig.update_layout(showlegend=True, xaxis_title='Year', yaxis_title=f'{metric} (%)', margin=dict(l=0, r=0, t=0, b=0), legend=dict(\n",
    "    orientation=\"h\",\n",
    "    yanchor=\"bottom\",\n",
    "    y=1.02,\n",
    "    xanchor=\"right\",\n",
    "    x=1\n",
    "))\n",
    "\n",
    "fig.update_layout(\n",
    "    font=dict(\n",
    "        # family=\"Courier New, monospace\",\n",
    "        size=22,\n",
    "        # color=\"RebeccaPurple\"\n",
    "    )\n",
    ")\n",
    "\n",
    "fig.show()"
   ]
  },
  {
   "cell_type": "code",
   "execution_count": null,
   "id": "d6e545ce-9916-4cb0-8abd-37f52fe19b5c",
   "metadata": {
    "tags": []
   },
   "outputs": [],
   "source": [
    "y_true = results['PCPDMC (Low)'].loc[results['PCPDMC (Low)'].index >= '2020-01-01 00:00:00'].y_true\n",
    "y_pred_PCPDMC = results['PCPDMC (Low)'].loc[results['PCPDMC (Low)'].index >= '2020-01-01 00:00:00'].y_pred\n",
    "y_pred_MCPDMC_WA = results['MCPDMC (High,WAVG)'].loc[results['MCPDMC (High,WAVG)'].index >= '2020-01-01 00:00:00'].y_pred\n",
    "y_pred_MCPDMC_SW = results['MCPDMC (High,SWITCH)'].loc[results['MCPDMC (High,SWITCH)'].index >= '2020-01-01 00:00:00'].y_pred\n",
    "\n",
    "y_pred_MCPDMC_SW"
   ]
  },
  {
   "cell_type": "code",
   "execution_count": null,
   "id": "b751955c-6a81-4b02-9f66-b5d32e1df5c4",
   "metadata": {
    "tags": []
   },
   "outputs": [],
   "source": [
    "bkps_low = pd.read_csv('Results/BKPS_LOW.csv')\n",
    "bkps_low = bkps_low.iloc[:4]\n",
    "bkps_low.DateTime = bkps_low.DateTime.apply(lambda x: x.replace('2013', '2020'))\n",
    "bkps_low"
   ]
  },
  {
   "cell_type": "code",
   "execution_count": null,
   "id": "47886ed3-ed7e-4c94-b038-40db263f8e54",
   "metadata": {
    "tags": []
   },
   "outputs": [],
   "source": [
    "bkps_high = pd.read_csv('Results/BKPS_HIGH.csv')\n",
    "bkps_high = bkps_high.iloc[:13]\n",
    "bkps_high.DateTime = bkps_high.DateTime.apply(lambda x: x.replace('2013', '2020'))\n",
    "bkps_high"
   ]
  },
  {
   "cell_type": "code",
   "execution_count": null,
   "id": "471b10e2-cbe2-4b26-828f-947667a13183",
   "metadata": {
    "tags": []
   },
   "outputs": [],
   "source": [
    "fig = go.Figure()\n",
    "\n",
    "plot_data_kw = {'PCPDMC (Low)': y_pred_PCPDMC, 'MCPDMC-WA (High)': y_pred_MCPDMC_WA,'MCPDMC-SW (High)':y_pred_MCPDMC_SW , 'Ground Truth':  y_true}\n",
    "keys = plot_data_kw.keys()\n",
    "for k, v in plot_data_kw.items():\n",
    "    data = v\n",
    "    fig.add_trace(go.Scatter(x=data.index, y=data.values,\n",
    "                        mode='lines',\n",
    "                        name=k))\n",
    "\n",
    "for x in bkps_low.DateTime:\n",
    "    fig.add_vline(x=x, line_width=3, line_dash=\"dash\", line_color=\"red\")\n",
    "    \n",
    "for x in bkps_high.DateTime:\n",
    "    fig.add_vline(x=x, line_width=3, line_dash=\"dot\", line_color=\"black\", opacity=0.5)\n",
    "    \n",
    "# r'$\\text{Gas Consumption } (m^3/h)$'\n",
    "fig.update_layout(showlegend=True, xaxis_title='Datetime', yaxis_title='Gas Consumption', margin=dict(l=0, r=0, t=0, b=0),\n",
    "    font=dict(\n",
    "        # family=\"Courier New, monospace\",\n",
    "        size=20,\n",
    "        # color=\"RebeccaPurple\"\n",
    "    ),\n",
    "    legend=dict(\n",
    "    orientation=\"h\",\n",
    "    yanchor=\"bottom\",\n",
    "    y=1.02,\n",
    "    xanchor=\"right\",\n",
    "    x=1,\n",
    "))\n",
    "fig.show()"
   ]
  },
  {
   "cell_type": "code",
   "execution_count": null,
   "id": "abfdb7a2-4444-4841-8b84-8866f2b4e982",
   "metadata": {
    "tags": []
   },
   "outputs": [],
   "source": [
    "fig = go.Figure()\n",
    "\n",
    "plot_data_kw = {'PCPDMC (Low)': y_pred_PCPDMC, 'MCPDMC-WA (High)': y_pred_MCPDMC_WA,'MCPDMC-SW (High)':y_pred_MCPDMC_SW , 'Ground Truth':  y_true}\n",
    "keys = plot_data_kw.keys()\n",
    "for k, v in plot_data_kw.items():\n",
    "    data = v.loc[(v.index >= '2020-03-26 00:00:00') & (v.index <= '2020-04-20 00:00:00')]\n",
    "    fig.add_trace(go.Scatter(x=data.index, y=data.values,\n",
    "                        mode='lines',\n",
    "                        name=k))\n",
    "\n",
    "for x in bkps_low.DateTime:\n",
    "    fig.add_vline(x=x, line_width=3, line_dash=\"dash\", line_color=\"red\")\n",
    "    \n",
    "for x in bkps_high.DateTime:\n",
    "    fig.add_vline(x=x, line_width=3, line_dash=\"dot\", line_color=\"black\", opacity=0.5)\n",
    "    \n",
    "# r'$\\text{Gas Consumption } (m^3/h)$'\n",
    "fig.update_layout(showlegend=True, xaxis_title='Datetime', yaxis_title='Gas Consumption', margin=dict(l=0, r=0, t=0, b=0),\n",
    "    font=dict(\n",
    "        # family=\"Courier New, monospace\",\n",
    "        size=20,\n",
    "        # color=\"RebeccaPurple\"\n",
    "    ), \n",
    "    legend=dict(\n",
    "    orientation=\"h\",\n",
    "    yanchor=\"bottom\",\n",
    "    y=1.02,\n",
    "    xanchor=\"right\",\n",
    "    x=1\n",
    "))\n",
    "fig.show()"
   ]
  },
  {
   "cell_type": "code",
   "execution_count": null,
   "id": "a89dd6bb-abae-408e-bcbe-a9f7efad82a3",
   "metadata": {
    "tags": []
   },
   "outputs": [],
   "source": [
    "y_true = results['PCPDMC (Low)'].loc[results['PCPDMC (Low)'].index >= '2020-01-01 00:00:00'].y_true\n",
    "\n",
    "y_pred = results['PCPDMC (Low)'].loc[results['PCPDMC (Low)'].index >= '2020-01-01 00:00:00'].y_pred\n",
    "smape_PCPDMC = np.abs((y_pred - y_true) / ((np.abs(y_true) + np.abs(y_pred))/2.0)) * 100\n",
    "\n",
    "y_pred = results['MCPDMC (High,WAVG)'].loc[results['MCPDMC (High,WAVG)'].index >= '2020-01-01 00:00:00'].y_pred\n",
    "smape_MCPDMC_WA = np.abs((y_pred - y_true) / ((np.abs(y_true) + np.abs(y_pred))/2.0)) * 100\n",
    "\n",
    "y_pred = results['MCPDMC (High,SWITCH)'].loc[results['MCPDMC (High,SWITCH)'].index >= '2020-01-01 00:00:00'].y_pred\n",
    "smape_MCPDMC_SW = np.abs((y_pred - y_true) / ((np.abs(y_true) + np.abs(y_pred))/2.0)) * 100\n",
    "\n",
    "y_pred_MCPDMC_SW"
   ]
  },
  {
   "cell_type": "code",
   "execution_count": null,
   "id": "6ad99b25-087d-4031-85e5-baf8e34f202a",
   "metadata": {
    "tags": []
   },
   "outputs": [],
   "source": [
    "df_sape = pd.DataFrame(index=y_true.index)\n",
    "df_sape['PCPDMC (Low)'] = smape_PCPDMC\n",
    "df_sape['MCPDMC-WA (High)'] = smape_MCPDMC_WA\n",
    "df_sape['MCPDMC-SW (High)'] = smape_MCPDMC_SW\n",
    "df_sape['Month'] = pd.DatetimeIndex(df_sape.index).month\n",
    "df_sape"
   ]
  },
  {
   "cell_type": "code",
   "execution_count": null,
   "id": "43fe0335-c32b-4758-bff2-c223b8ccf19b",
   "metadata": {
    "tags": []
   },
   "outputs": [],
   "source": [
    "fig = go.Figure()\n",
    "\n",
    "plot_data_kw = {'PCPDMC (Low)': smape_PCPDMC, 'MCPDMC-WA (High)': smape_MCPDMC_WA, 'MCPDMC-SW (High)':smape_MCPDMC_SW}\n",
    "keys = plot_data_kw.keys()\n",
    "for k, v in plot_data_kw.items():\n",
    "    data = v\n",
    "    fig.add_trace(go.Scatter(x=data.index, y=data.values,\n",
    "                        mode='lines',\n",
    "                        name=k))\n",
    "\n",
    "for x in bkps_low.DateTime:\n",
    "    fig.add_vline(x=x, line_width=3, line_dash=\"dash\", line_color=\"red\")\n",
    "    \n",
    "for x in bkps_high.DateTime:\n",
    "    fig.add_vline(x=x, line_width=3, line_dash=\"dot\", line_color=\"black\", opacity=0.5)\n",
    "    \n",
    "fig.update_layout(showlegend=True, xaxis_title='Datetime', yaxis_title='SAPE (%)', margin=dict(l=0, r=0, t=0, b=0), \n",
    "    font=dict(\n",
    "        # family=\"Courier New, monospace\",\n",
    "        size=20,\n",
    "        # color=\"RebeccaPurple\"\n",
    "    ), \n",
    "    legend=dict(\n",
    "    orientation=\"h\",\n",
    "    yanchor=\"bottom\",\n",
    "    y=1.02,\n",
    "    xanchor=\"right\",\n",
    "    x=1\n",
    "))\n",
    "fig.show()"
   ]
  },
  {
   "cell_type": "code",
   "execution_count": null,
   "id": "25fe9ba9-7164-4a2e-9f42-bbcbb3d70a56",
   "metadata": {
    "tags": []
   },
   "outputs": [],
   "source": [
    "df_sape['Month']"
   ]
  },
  {
   "cell_type": "code",
   "execution_count": null,
   "id": "149da11a-c1c6-40a0-8b63-406521dfb0a7",
   "metadata": {
    "tags": []
   },
   "outputs": [],
   "source": [
    "df_sape_s = df_sape.iloc[:, :3].stack().reset_index(name='SAPE').rename({'level_1': 'Approach'}, axis=1)\n",
    "df_sape_s['Month'] = pd.DatetimeIndex(df_sape_s['level_0']).month\n",
    "df_sape_s"
   ]
  },
  {
   "cell_type": "code",
   "execution_count": null,
   "id": "f2f10d93-fd4e-45e8-ab80-e19cc32acdb8",
   "metadata": {
    "tags": []
   },
   "outputs": [],
   "source": [
    "np.arange(1, 13)"
   ]
  },
  {
   "cell_type": "code",
   "execution_count": null,
   "id": "32654d7e-e75d-411c-95ed-2063fd31678f",
   "metadata": {
    "tags": []
   },
   "outputs": [],
   "source": [
    "[calendar.month_name[x] for x in np.arange(1, 13)]"
   ]
  },
  {
   "cell_type": "code",
   "execution_count": null,
   "id": "10006f43-a45f-417d-8c6a-cf69eb67fcaf",
   "metadata": {},
   "outputs": [],
   "source": [
    "fig = px.box(df_sape_s, x='Month', y='SAPE', color='Approach')\n",
    "fig.update_layout(showlegend=True, xaxis_title='Month', yaxis_title='SAPE (%)', margin=dict(l=0, r=0, t=0, b=0), legend=dict(\n",
    "    orientation=\"h\",\n",
    "    yanchor=\"bottom\",\n",
    "    y=1.02,\n",
    "    xanchor=\"right\",\n",
    "    x=1,\n",
    "),\n",
    "font=dict(\n",
    "        # family=\"Courier New, monospace\",\n",
    "        size=20,\n",
    "        # color=\"RebeccaPurple\"\n",
    "    ),                 \n",
    "xaxis = dict(\n",
    "tickmode = 'array',\n",
    "tickvals = np.arange(1, 13),\n",
    "ticktext = [calendar.month_name[x] for x in np.arange(1, 13)]\n",
    "))\n",
    "fig.show()"
   ]
  },
  {
   "cell_type": "code",
   "execution_count": null,
   "id": "b30c6233-648a-43fa-9ec0-29fc31804d96",
   "metadata": {
    "tags": []
   },
   "outputs": [],
   "source": [
    "df_sape_agg = df_sape.groupby('Month').median()\n",
    "df_sape_agg.index = [calendar.month_name[x] for x in df_sape_agg.index]\n",
    "df_sape_agg"
   ]
  }
 ],
 "metadata": {
  "kernelspec": {
   "display_name": "Python 3 (ipykernel)",
   "language": "python",
   "name": "python3"
  },
  "language_info": {
   "codemirror_mode": {
    "name": "ipython",
    "version": 3
   },
   "file_extension": ".py",
   "mimetype": "text/x-python",
   "name": "python",
   "nbconvert_exporter": "python",
   "pygments_lexer": "ipython3",
   "version": "3.11.0rc1"
  }
 },
 "nbformat": 4,
 "nbformat_minor": 5
}
